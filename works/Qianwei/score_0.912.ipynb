{
 "cells": [
  {
   "cell_type": "code",
   "execution_count": 1,
   "id": "1589bb45",
   "metadata": {
    "_cell_guid": "b1076dfc-b9ad-4769-8c92-a6c4dae69d19",
    "_uuid": "8f2839f25d086af736a60e9eeb907d3b93b6e0e5",
    "execution": {
     "iopub.execute_input": "2023-02-14T17:17:30.350481Z",
     "iopub.status.busy": "2023-02-14T17:17:30.349938Z",
     "iopub.status.idle": "2023-02-14T17:17:33.544548Z",
     "shell.execute_reply": "2023-02-14T17:17:33.543597Z"
    },
    "papermill": {
     "duration": 3.212806,
     "end_time": "2023-02-14T17:17:33.546995",
     "exception": false,
     "start_time": "2023-02-14T17:17:30.334189",
     "status": "completed"
    },
    "tags": []
   },
   "outputs": [
    {
     "data": {
      "text/html": [
       "<style type='text/css'>\n",
       ".datatable table.frame { margin-bottom: 0; }\n",
       ".datatable table.frame thead { border-bottom: none; }\n",
       ".datatable table.frame tr.coltypes td {  color: #FFFFFF;  line-height: 6px;  padding: 0 0.5em;}\n",
       ".datatable .bool    { background: #DDDD99; }\n",
       ".datatable .object  { background: #565656; }\n",
       ".datatable .int     { background: #5D9E5D; }\n",
       ".datatable .float   { background: #4040CC; }\n",
       ".datatable .str     { background: #CC4040; }\n",
       ".datatable .time    { background: #40CC40; }\n",
       ".datatable .row_index {  background: var(--jp-border-color3);  border-right: 1px solid var(--jp-border-color0);  color: var(--jp-ui-font-color3);  font-size: 9px;}\n",
       ".datatable .frame tbody td { text-align: left; }\n",
       ".datatable .frame tr.coltypes .row_index {  background: var(--jp-border-color0);}\n",
       ".datatable th:nth-child(2) { padding-left: 12px; }\n",
       ".datatable .hellipsis {  color: var(--jp-cell-editor-border-color);}\n",
       ".datatable .vellipsis {  background: var(--jp-layout-color0);  color: var(--jp-cell-editor-border-color);}\n",
       ".datatable .na {  color: var(--jp-cell-editor-border-color);  font-size: 80%;}\n",
       ".datatable .sp {  opacity: 0.25;}\n",
       ".datatable .footer { font-size: 9px; }\n",
       ".datatable .frame_dimensions {  background: var(--jp-border-color3);  border-top: 1px solid var(--jp-border-color0);  color: var(--jp-ui-font-color3);  display: inline-block;  opacity: 0.6;  padding: 1px 10px 1px 5px;}\n",
       "</style>\n"
      ],
      "text/plain": [
       "<IPython.core.display.HTML object>"
      ]
     },
     "metadata": {},
     "output_type": "display_data"
    },
    {
     "name": "stdout",
     "output_type": "stream",
     "text": [
      "Libraries imported\n",
      "/kaggle/input/widsdatathon2023/train_data.csv\n",
      "/kaggle/input/widsdatathon2023/test_data.csv\n",
      "/kaggle/input/widsdatathon2023/sample_solution.csv\n"
     ]
    }
   ],
   "source": [
    "# This Python 3 environment comes with many helpful analytics libraries installed\n",
    "# It is defined by the kaggle/python Docker image: https://github.com/kaggle/docker-python\n",
    "# For example, here's several helpful packages to load\n",
    "\n",
    "import numpy as np # linear algebra\n",
    "import pandas as pd # data processing, CSV file I/O (e.g. pd.read_csv)\n",
    "import matplotlib.pyplot as plt\n",
    "import seaborn as sb\n",
    "from datetime import datetime\n",
    "from sklearn.model_selection import train_test_split\n",
    "from sklearn.feature_selection import RFE\n",
    "from sklearn.linear_model import Lasso, LinearRegression\n",
    "from sklearn.preprocessing import LabelEncoder, OneHotEncoder\n",
    "from sklearn.ensemble import RandomForestRegressor, GradientBoostingRegressor\n",
    "from statsmodels.tsa.arima.model import ARIMA\n",
    "import xgboost as xgb\n",
    "from sklearn.metrics import mean_squared_error\n",
    "from sklearn.preprocessing import StandardScaler, MinMaxScaler\n",
    "from sklearn.pipeline import Pipeline\n",
    "import gc\n",
    "import lightgbm as lgb\n",
    "%matplotlib inline\n",
    "print(\"Libraries imported\")\n",
    "\n",
    "# Input data files are available in the read-only \"../input/\" directory\n",
    "# For example, running this (by clicking run or pressing Shift+Enter) will list all files under the input directory\n",
    "\n",
    "import os\n",
    "for dirname, _, filenames in os.walk('/kaggle/input'):\n",
    "    for filename in filenames:\n",
    "        print(os.path.join(dirname, filename))\n",
    "\n",
    "# You can write up to 20GB to the current directory (/kaggle/working/) that gets preserved as output when you create a version using \"Save & Run All\" \n",
    "# You can also write temporary files to /kaggle/temp/, but they won't be saved outside of the current session"
   ]
  },
  {
   "cell_type": "markdown",
   "id": "8b2e319b",
   "metadata": {
    "papermill": {
     "duration": 0.012479,
     "end_time": "2023-02-14T17:17:33.573256",
     "exception": false,
     "start_time": "2023-02-14T17:17:33.560777",
     "status": "completed"
    },
    "tags": []
   },
   "source": [
    "### ^ These imports are becoming messy :^("
   ]
  },
  {
   "cell_type": "markdown",
   "id": "9a7d3a27",
   "metadata": {
    "papermill": {
     "duration": 0.012557,
     "end_time": "2023-02-14T17:17:33.598557",
     "exception": false,
     "start_time": "2023-02-14T17:17:33.586000",
     "status": "completed"
    },
    "tags": []
   },
   "source": [
    "# Loading the data into variables cc_train, cc_test, cc_sample\n",
    "\n",
    "- cc_train = /kaggle/input/widsdatathon2023/train_data.csv\n",
    "- cc_test = /kaggle/input/widsdatathon2023/test_data.csv\n",
    "- cc_sample = /kaggle/input/widsdatathon2023/sample_solution.csv"
   ]
  },
  {
   "cell_type": "code",
   "execution_count": 2,
   "id": "0d07cf84",
   "metadata": {
    "execution": {
     "iopub.execute_input": "2023-02-14T17:17:33.626368Z",
     "iopub.status.busy": "2023-02-14T17:17:33.626005Z",
     "iopub.status.idle": "2023-02-14T17:17:56.039116Z",
     "shell.execute_reply": "2023-02-14T17:17:56.038156Z"
    },
    "papermill": {
     "duration": 22.430287,
     "end_time": "2023-02-14T17:17:56.041846",
     "exception": false,
     "start_time": "2023-02-14T17:17:33.611559",
     "status": "completed"
    },
    "tags": []
   },
   "outputs": [],
   "source": [
    "cc_train = pd.read_csv('/kaggle/input/widsdatathon2023/train_data.csv')\n",
    "cc_test = pd.read_csv('/kaggle/input/widsdatathon2023/test_data.csv')\n",
    "cc_sample = pd.read_csv('/kaggle/input/widsdatathon2023/sample_solution.csv')"
   ]
  },
  {
   "cell_type": "markdown",
   "id": "6916a400",
   "metadata": {
    "papermill": {
     "duration": 0.012467,
     "end_time": "2023-02-14T17:17:56.067267",
     "exception": false,
     "start_time": "2023-02-14T17:17:56.054800",
     "status": "completed"
    },
    "tags": []
   },
   "source": [
    "# Reducing the memory usage of the dataset\n",
    "\n",
    "## Acknowledgement\n",
    "\n",
    "[Reduce Dataframe size](https://www.kaggle.com/competitions/widsdatathon2023/discussion/376649)"
   ]
  },
  {
   "cell_type": "code",
   "execution_count": 3,
   "id": "94d4cc6c",
   "metadata": {
    "execution": {
     "iopub.execute_input": "2023-02-14T17:17:56.093508Z",
     "iopub.status.busy": "2023-02-14T17:17:56.093197Z",
     "iopub.status.idle": "2023-02-14T17:17:56.103683Z",
     "shell.execute_reply": "2023-02-14T17:17:56.102663Z"
    },
    "papermill": {
     "duration": 0.026354,
     "end_time": "2023-02-14T17:17:56.106116",
     "exception": false,
     "start_time": "2023-02-14T17:17:56.079762",
     "status": "completed"
    },
    "tags": []
   },
   "outputs": [],
   "source": [
    "def reduce_mem_usage(dataframe, verbose=True):\n",
    "  numerics = ['int16', 'int32', 'int64', 'float16', 'float32', 'float64']\n",
    "  start_memory = dataframe.memory_usage().sum() / 1024**2\n",
    "  for col in dataframe.columns:\n",
    "    col_type = dataframe[col].dtypes\n",
    "    if col_type in numerics:\n",
    "      c_min = dataframe[col].min()\n",
    "      c_max = dataframe[col].max()\n",
    "      if str(col_type)[:3] == 'int':\n",
    "        if c_min > np.iinfo(np.int8).min and c_max < np.iinfo(np.int8).max:\n",
    "          dataframe[col] = dataframe[col].astype(np.int8)\n",
    "        elif c_min > np.iinfo(np.int16).min and c_max < np.iinfo(np.int16).max:\n",
    "          dataframe[col] = dataframe[col].astype(np.int16)\n",
    "        elif c_min > np.iinfo(np.int32).min and c_max < np.iinfo(np.int32).max:\n",
    "          dataframe[col] = dataframe[col].astype(np.int32)\n",
    "        elif c_min > np.iinfo(np.int64).min and c_max < np.iinfo(np.int64).max:\n",
    "          dataframe[col] = dataframe[col].astype(np.int64)\n",
    "      else:\n",
    "        if c_min > np.finfo(np.float32).min and c_max < np.finfo(np.float32).max:\n",
    "          dataframe[col] = dataframe[col].astype(np.float32)\n",
    "        else:\n",
    "          dataframe[col] = dataframe[col].astype(np.float64)\n",
    "  end_memory = dataframe.memory_usage().sum() / 1024**2\n",
    "  print('Mem. usage decreased to {:5.2f} Mb ({:.1f}% reduction)'.format(end_memory, 100 * (start_memory - end_memory) / start_memory)) if verbose else print('Reduced to {:5.2f}'.format(end_memory))\n",
    "  return dataframe"
   ]
  },
  {
   "cell_type": "code",
   "execution_count": 4,
   "id": "a582678f",
   "metadata": {
    "execution": {
     "iopub.execute_input": "2023-02-14T17:17:56.131993Z",
     "iopub.status.busy": "2023-02-14T17:17:56.131702Z",
     "iopub.status.idle": "2023-02-14T17:18:22.241943Z",
     "shell.execute_reply": "2023-02-14T17:18:22.240808Z"
    },
    "papermill": {
     "duration": 26.126488,
     "end_time": "2023-02-14T17:18:22.244997",
     "exception": false,
     "start_time": "2023-02-14T17:17:56.118509",
     "status": "completed"
    },
    "tags": []
   },
   "outputs": [
    {
     "name": "stdout",
     "output_type": "stream",
     "text": [
      "Mem. usage decreased to 352.24 Mb (50.1% reduction)\n"
     ]
    }
   ],
   "source": [
    "cc_train = reduce_mem_usage(cc_train)"
   ]
  },
  {
   "cell_type": "markdown",
   "id": "8dcf7e1a",
   "metadata": {
    "papermill": {
     "duration": 0.012545,
     "end_time": "2023-02-14T17:18:22.270511",
     "exception": false,
     "start_time": "2023-02-14T17:18:22.257966",
     "status": "completed"
    },
    "tags": []
   },
   "source": [
    "# Overview of the dataset\n",
    "\n",
    "Using shape, info, head, describe"
   ]
  },
  {
   "cell_type": "code",
   "execution_count": 5,
   "id": "b23da083",
   "metadata": {
    "execution": {
     "iopub.execute_input": "2023-02-14T17:18:22.298550Z",
     "iopub.status.busy": "2023-02-14T17:18:22.297481Z",
     "iopub.status.idle": "2023-02-14T17:18:22.673890Z",
     "shell.execute_reply": "2023-02-14T17:18:22.672910Z"
    },
    "papermill": {
     "duration": 0.392841,
     "end_time": "2023-02-14T17:18:22.676259",
     "exception": false,
     "start_time": "2023-02-14T17:18:22.283418",
     "status": "completed"
    },
    "tags": []
   },
   "outputs": [],
   "source": [
    "train_df = cc_train.copy()\n",
    "test_df = cc_test.copy()"
   ]
  },
  {
   "cell_type": "markdown",
   "id": "768e4fc7",
   "metadata": {
    "papermill": {
     "duration": 0.012442,
     "end_time": "2023-02-14T17:18:22.701642",
     "exception": false,
     "start_time": "2023-02-14T17:18:22.689200",
     "status": "completed"
    },
    "tags": []
   },
   "source": [
    "## Visualise the time gap between the train and the test data"
   ]
  },
  {
   "cell_type": "code",
   "execution_count": 6,
   "id": "f2894894",
   "metadata": {
    "execution": {
     "iopub.execute_input": "2023-02-14T17:18:22.728721Z",
     "iopub.status.busy": "2023-02-14T17:18:22.727880Z",
     "iopub.status.idle": "2023-02-14T17:18:30.229601Z",
     "shell.execute_reply": "2023-02-14T17:18:30.228670Z"
    },
    "papermill": {
     "duration": 7.517629,
     "end_time": "2023-02-14T17:18:30.231819",
     "exception": false,
     "start_time": "2023-02-14T17:18:22.714190",
     "status": "completed"
    },
    "tags": []
   },
   "outputs": [
    {
     "data": {
      "image/png": "[encoded data removed]",
      "text/plain": [
       "<Figure size 1600x800 with 1 Axes>"
      ]
     },
     "metadata": {},
     "output_type": "display_data"
    }
   ],
   "source": [
    "# create a scatterplot using seaborn and matplotlib\n",
    "fig, ax = plt.subplots(figsize=(16, 8))\n",
    "sb.scatterplot(x=train_df.startdate, y=1, color='blue', label='Train Data', ax=ax)\n",
    "sb.scatterplot(x=test_df.startdate, y=1, color='red', label='Test Data', ax=ax)\n",
    "\n",
    "# add labels and a title to the plot\n",
    "ax.set_title('Scatterplot of Startdate and Target')\n",
    "ax.set_xlabel('Startdate')\n",
    "ax.set_ylabel('Target')\n",
    "ax.legend(loc='upper left')\n",
    "\n",
    "# display the plot\n",
    "plt.show()\n"
   ]
  },
  {
   "cell_type": "markdown",
   "id": "45dd53b9",
   "metadata": {
    "papermill": {
     "duration": 0.012964,
     "end_time": "2023-02-14T17:18:30.258230",
     "exception": false,
     "start_time": "2023-02-14T17:18:30.245266",
     "status": "completed"
    },
    "tags": []
   },
   "source": [
    "**Based on the graph above the train data was from 2014 - 2016 and the test data is from 2022. There is a big time gap between the train and test data.**"
   ]
  },
  {
   "cell_type": "markdown",
   "id": "98226238",
   "metadata": {
    "papermill": {
     "duration": 0.012991,
     "end_time": "2023-02-14T17:18:30.284081",
     "exception": false,
     "start_time": "2023-02-14T17:18:30.271090",
     "status": "completed"
    },
    "tags": []
   },
   "source": [
    "## Analyising the distribution of values in both the train and test dataset"
   ]
  },
  {
   "cell_type": "code",
   "execution_count": 7,
   "id": "7e05408c",
   "metadata": {
    "execution": {
     "iopub.execute_input": "2023-02-14T17:18:30.312919Z",
     "iopub.status.busy": "2023-02-14T17:18:30.311255Z",
     "iopub.status.idle": "2023-02-14T17:18:30.317522Z",
     "shell.execute_reply": "2023-02-14T17:18:30.316656Z"
    },
    "papermill": {
     "duration": 0.022416,
     "end_time": "2023-02-14T17:18:30.319543",
     "exception": false,
     "start_time": "2023-02-14T17:18:30.297127",
     "status": "completed"
    },
    "tags": []
   },
   "outputs": [],
   "source": [
    "def dist_of_train_test_features(train_df, test_df, feature):\n",
    "    # Analyse the distribution of values in the training dataset\n",
    "    plt.figure(figsize=(16, 5))\n",
    "    sb.displot(data=train_df, x=feature, kind='kde', label='Train Data')\n",
    "\n",
    "    # Analyse the distribution of values in the testing dataset\n",
    "    plt.figure(figsize=(16, 5))\n",
    "    sb.displot(data=test_df, x=feature, kind='kde', label='Test Data')\n",
    "# dist_of_train_test_features(train_df, test_df, 'nmme0-tmp2m-34w__nmme0mean')"
   ]
  },
  {
   "cell_type": "code",
   "execution_count": 8,
   "id": "2dec4520",
   "metadata": {
    "execution": {
     "iopub.execute_input": "2023-02-14T17:18:30.346887Z",
     "iopub.status.busy": "2023-02-14T17:18:30.346110Z",
     "iopub.status.idle": "2023-02-14T17:18:30.352556Z",
     "shell.execute_reply": "2023-02-14T17:18:30.351557Z"
    },
    "papermill": {
     "duration": 0.022101,
     "end_time": "2023-02-14T17:18:30.354517",
     "exception": false,
     "start_time": "2023-02-14T17:18:30.332416",
     "status": "completed"
    },
    "tags": []
   },
   "outputs": [
    {
     "data": {
      "text/plain": [
       "(375734, 246)"
      ]
     },
     "execution_count": 8,
     "metadata": {},
     "output_type": "execute_result"
    }
   ],
   "source": [
    "cc_train.shape"
   ]
  },
  {
   "cell_type": "code",
   "execution_count": 9,
   "id": "7607ebd2",
   "metadata": {
    "execution": {
     "iopub.execute_input": "2023-02-14T17:18:30.382040Z",
     "iopub.status.busy": "2023-02-14T17:18:30.381272Z",
     "iopub.status.idle": "2023-02-14T17:18:33.014501Z",
     "shell.execute_reply": "2023-02-14T17:18:33.013514Z"
    },
    "papermill": {
     "duration": 2.649042,
     "end_time": "2023-02-14T17:18:33.016556",
     "exception": false,
     "start_time": "2023-02-14T17:18:30.367514",
     "status": "completed"
    },
    "tags": []
   },
   "outputs": [
    {
     "data": {
      "text/html": [
       "<div>\n",
       "<style scoped>\n",
       "    .dataframe tbody tr th:only-of-type {\n",
       "        vertical-align: middle;\n",
       "    }\n",
       "\n",
       "    .dataframe tbody tr th {\n",
       "        vertical-align: top;\n",
       "    }\n",
       "\n",
       "    .dataframe thead th {\n",
       "        text-align: right;\n",
       "    }\n",
       "</style>\n",
       "<table border=\"1\" class=\"dataframe\">\n",
       "  <thead>\n",
       "    <tr style=\"text-align: right;\">\n",
       "      <th></th>\n",
       "      <th>index</th>\n",
       "      <th>lat</th>\n",
       "      <th>lon</th>\n",
       "      <th>contest-pevpr-sfc-gauss-14d__pevpr</th>\n",
       "      <th>nmme0-tmp2m-34w__cancm30</th>\n",
       "      <th>nmme0-tmp2m-34w__cancm40</th>\n",
       "      <th>nmme0-tmp2m-34w__ccsm30</th>\n",
       "      <th>nmme0-tmp2m-34w__ccsm40</th>\n",
       "      <th>nmme0-tmp2m-34w__cfsv20</th>\n",
       "      <th>nmme0-tmp2m-34w__gfdlflora0</th>\n",
       "      <th>...</th>\n",
       "      <th>wind-vwnd-925-2010-11</th>\n",
       "      <th>wind-vwnd-925-2010-12</th>\n",
       "      <th>wind-vwnd-925-2010-13</th>\n",
       "      <th>wind-vwnd-925-2010-14</th>\n",
       "      <th>wind-vwnd-925-2010-15</th>\n",
       "      <th>wind-vwnd-925-2010-16</th>\n",
       "      <th>wind-vwnd-925-2010-17</th>\n",
       "      <th>wind-vwnd-925-2010-18</th>\n",
       "      <th>wind-vwnd-925-2010-19</th>\n",
       "      <th>wind-vwnd-925-2010-20</th>\n",
       "    </tr>\n",
       "  </thead>\n",
       "  <tbody>\n",
       "    <tr>\n",
       "      <th>count</th>\n",
       "      <td>375734.000000</td>\n",
       "      <td>375734.000000</td>\n",
       "      <td>375734.000000</td>\n",
       "      <td>375734.000000</td>\n",
       "      <td>375734.000000</td>\n",
       "      <td>375734.000000</td>\n",
       "      <td>359800.000000</td>\n",
       "      <td>375734.000000</td>\n",
       "      <td>375734.000000</td>\n",
       "      <td>375734.000000</td>\n",
       "      <td>...</td>\n",
       "      <td>375734.000000</td>\n",
       "      <td>375734.000000</td>\n",
       "      <td>375734.000000</td>\n",
       "      <td>375734.000000</td>\n",
       "      <td>375734.000000</td>\n",
       "      <td>375734.000000</td>\n",
       "      <td>375734.000000</td>\n",
       "      <td>375734.000000</td>\n",
       "      <td>375734.000000</td>\n",
       "      <td>375734.000000</td>\n",
       "    </tr>\n",
       "    <tr>\n",
       "      <th>mean</th>\n",
       "      <td>187866.500000</td>\n",
       "      <td>0.592766</td>\n",
       "      <td>0.517964</td>\n",
       "      <td>276.744049</td>\n",
       "      <td>10.801681</td>\n",
       "      <td>12.726736</td>\n",
       "      <td>10.099324</td>\n",
       "      <td>11.638229</td>\n",
       "      <td>10.733886</td>\n",
       "      <td>11.772648</td>\n",
       "      <td>...</td>\n",
       "      <td>-1.209959</td>\n",
       "      <td>-8.109917</td>\n",
       "      <td>6.800684</td>\n",
       "      <td>19.251972</td>\n",
       "      <td>-17.697563</td>\n",
       "      <td>-9.846868</td>\n",
       "      <td>-6.231860</td>\n",
       "      <td>16.014360</td>\n",
       "      <td>10.489945</td>\n",
       "      <td>11.296336</td>\n",
       "    </tr>\n",
       "    <tr>\n",
       "      <th>std</th>\n",
       "      <td>108465.207359</td>\n",
       "      <td>0.251744</td>\n",
       "      <td>0.272059</td>\n",
       "      <td>198.085175</td>\n",
       "      <td>10.952416</td>\n",
       "      <td>11.073553</td>\n",
       "      <td>10.339626</td>\n",
       "      <td>10.574276</td>\n",
       "      <td>9.403434</td>\n",
       "      <td>10.689967</td>\n",
       "      <td>...</td>\n",
       "      <td>37.317333</td>\n",
       "      <td>36.201508</td>\n",
       "      <td>38.458878</td>\n",
       "      <td>25.288525</td>\n",
       "      <td>31.946749</td>\n",
       "      <td>34.164677</td>\n",
       "      <td>27.050356</td>\n",
       "      <td>25.847456</td>\n",
       "      <td>25.070435</td>\n",
       "      <td>25.113214</td>\n",
       "    </tr>\n",
       "    <tr>\n",
       "      <th>min</th>\n",
       "      <td>0.000000</td>\n",
       "      <td>0.000000</td>\n",
       "      <td>0.000000</td>\n",
       "      <td>-2.310000</td>\n",
       "      <td>-14.960000</td>\n",
       "      <td>-14.970000</td>\n",
       "      <td>-11.720000</td>\n",
       "      <td>-17.559999</td>\n",
       "      <td>-13.720000</td>\n",
       "      <td>-13.330000</td>\n",
       "      <td>...</td>\n",
       "      <td>-94.570000</td>\n",
       "      <td>-89.940002</td>\n",
       "      <td>-64.870003</td>\n",
       "      <td>-39.279999</td>\n",
       "      <td>-100.559998</td>\n",
       "      <td>-106.080002</td>\n",
       "      <td>-93.980003</td>\n",
       "      <td>-52.610001</td>\n",
       "      <td>-66.110001</td>\n",
       "      <td>-57.610001</td>\n",
       "    </tr>\n",
       "    <tr>\n",
       "      <th>25%</th>\n",
       "      <td>93933.250000</td>\n",
       "      <td>0.409091</td>\n",
       "      <td>0.300000</td>\n",
       "      <td>104.062498</td>\n",
       "      <td>1.550000</td>\n",
       "      <td>3.650000</td>\n",
       "      <td>1.640000</td>\n",
       "      <td>3.080000</td>\n",
       "      <td>3.390000</td>\n",
       "      <td>2.970000</td>\n",
       "      <td>...</td>\n",
       "      <td>-27.200001</td>\n",
       "      <td>-33.349998</td>\n",
       "      <td>-19.650000</td>\n",
       "      <td>1.960000</td>\n",
       "      <td>-40.029999</td>\n",
       "      <td>-32.169998</td>\n",
       "      <td>-20.170000</td>\n",
       "      <td>-0.360000</td>\n",
       "      <td>-6.790000</td>\n",
       "      <td>-5.570000</td>\n",
       "    </tr>\n",
       "    <tr>\n",
       "      <th>50%</th>\n",
       "      <td>187866.500000</td>\n",
       "      <td>0.590909</td>\n",
       "      <td>0.533333</td>\n",
       "      <td>250.320007</td>\n",
       "      <td>9.950000</td>\n",
       "      <td>11.890000</td>\n",
       "      <td>9.490000</td>\n",
       "      <td>11.600000</td>\n",
       "      <td>10.890000</td>\n",
       "      <td>11.280000</td>\n",
       "      <td>...</td>\n",
       "      <td>-3.200000</td>\n",
       "      <td>-9.390000</td>\n",
       "      <td>2.330000</td>\n",
       "      <td>20.049999</td>\n",
       "      <td>-16.709999</td>\n",
       "      <td>-8.560000</td>\n",
       "      <td>-6.030000</td>\n",
       "      <td>18.650000</td>\n",
       "      <td>11.860000</td>\n",
       "      <td>11.650000</td>\n",
       "    </tr>\n",
       "    <tr>\n",
       "      <th>75%</th>\n",
       "      <td>281799.750000</td>\n",
       "      <td>0.818182</td>\n",
       "      <td>0.766667</td>\n",
       "      <td>420.010010</td>\n",
       "      <td>20.230000</td>\n",
       "      <td>22.110001</td>\n",
       "      <td>18.740000</td>\n",
       "      <td>20.360001</td>\n",
       "      <td>18.330000</td>\n",
       "      <td>20.299999</td>\n",
       "      <td>...</td>\n",
       "      <td>24.940001</td>\n",
       "      <td>17.959999</td>\n",
       "      <td>28.660000</td>\n",
       "      <td>35.090000</td>\n",
       "      <td>4.390000</td>\n",
       "      <td>10.500000</td>\n",
       "      <td>11.630000</td>\n",
       "      <td>31.209999</td>\n",
       "      <td>29.040001</td>\n",
       "      <td>29.180000</td>\n",
       "    </tr>\n",
       "    <tr>\n",
       "      <th>max</th>\n",
       "      <td>375733.000000</td>\n",
       "      <td>1.000000</td>\n",
       "      <td>1.000000</td>\n",
       "      <td>1185.140015</td>\n",
       "      <td>36.080002</td>\n",
       "      <td>36.029999</td>\n",
       "      <td>33.389999</td>\n",
       "      <td>34.639999</td>\n",
       "      <td>35.750000</td>\n",
       "      <td>38.349998</td>\n",
       "      <td>...</td>\n",
       "      <td>113.919998</td>\n",
       "      <td>96.550003</td>\n",
       "      <td>106.419998</td>\n",
       "      <td>91.760002</td>\n",
       "      <td>56.549999</td>\n",
       "      <td>83.889999</td>\n",
       "      <td>64.849998</td>\n",
       "      <td>90.389999</td>\n",
       "      <td>76.889999</td>\n",
       "      <td>88.660004</td>\n",
       "    </tr>\n",
       "  </tbody>\n",
       "</table>\n",
       "<p>8 rows × 244 columns</p>\n",
       "</div>"
      ],
      "text/plain": [
       "               index            lat            lon  \\\n",
       "count  375734.000000  375734.000000  375734.000000   \n",
       "mean   187866.500000       0.592766       0.517964   \n",
       "std    108465.207359       0.251744       0.272059   \n",
       "min         0.000000       0.000000       0.000000   \n",
       "25%     93933.250000       0.409091       0.300000   \n",
       "50%    187866.500000       0.590909       0.533333   \n",
       "75%    281799.750000       0.818182       0.766667   \n",
       "max    375733.000000       1.000000       1.000000   \n",
       "\n",
       "       contest-pevpr-sfc-gauss-14d__pevpr  nmme0-tmp2m-34w__cancm30  \\\n",
       "count                       375734.000000             375734.000000   \n",
       "mean                           276.744049                 10.801681   \n",
       "std                            198.085175                 10.952416   \n",
       "min                             -2.310000                -14.960000   \n",
       "25%                            104.062498                  1.550000   \n",
       "50%                            250.320007                  9.950000   \n",
       "75%                            420.010010                 20.230000   \n",
       "max                           1185.140015                 36.080002   \n",
       "\n",
       "       nmme0-tmp2m-34w__cancm40  nmme0-tmp2m-34w__ccsm30  \\\n",
       "count             375734.000000            359800.000000   \n",
       "mean                  12.726736                10.099324   \n",
       "std                   11.073553                10.339626   \n",
       "min                  -14.970000               -11.720000   \n",
       "25%                    3.650000                 1.640000   \n",
       "50%                   11.890000                 9.490000   \n",
       "75%                   22.110001                18.740000   \n",
       "max                   36.029999                33.389999   \n",
       "\n",
       "       nmme0-tmp2m-34w__ccsm40  nmme0-tmp2m-34w__cfsv20  \\\n",
       "count            375734.000000            375734.000000   \n",
       "mean                 11.638229                10.733886   \n",
       "std                  10.574276                 9.403434   \n",
       "min                 -17.559999               -13.720000   \n",
       "25%                   3.080000                 3.390000   \n",
       "50%                  11.600000                10.890000   \n",
       "75%                  20.360001                18.330000   \n",
       "max                  34.639999                35.750000   \n",
       "\n",
       "       nmme0-tmp2m-34w__gfdlflora0  ...  wind-vwnd-925-2010-11  \\\n",
       "count                375734.000000  ...          375734.000000   \n",
       "mean                     11.772648  ...              -1.209959   \n",
       "std                      10.689967  ...              37.317333   \n",
       "min                     -13.330000  ...             -94.570000   \n",
       "25%                       2.970000  ...             -27.200001   \n",
       "50%                      11.280000  ...              -3.200000   \n",
       "75%                      20.299999  ...              24.940001   \n",
       "max                      38.349998  ...             113.919998   \n",
       "\n",
       "       wind-vwnd-925-2010-12  wind-vwnd-925-2010-13  wind-vwnd-925-2010-14  \\\n",
       "count          375734.000000          375734.000000          375734.000000   \n",
       "mean               -8.109917               6.800684              19.251972   \n",
       "std                36.201508              38.458878              25.288525   \n",
       "min               -89.940002             -64.870003             -39.279999   \n",
       "25%               -33.349998             -19.650000               1.960000   \n",
       "50%                -9.390000               2.330000              20.049999   \n",
       "75%                17.959999              28.660000              35.090000   \n",
       "max                96.550003             106.419998              91.760002   \n",
       "\n",
       "       wind-vwnd-925-2010-15  wind-vwnd-925-2010-16  wind-vwnd-925-2010-17  \\\n",
       "count          375734.000000          375734.000000          375734.000000   \n",
       "mean              -17.697563              -9.846868              -6.231860   \n",
       "std                31.946749              34.164677              27.050356   \n",
       "min              -100.559998            -106.080002             -93.980003   \n",
       "25%               -40.029999             -32.169998             -20.170000   \n",
       "50%               -16.709999              -8.560000              -6.030000   \n",
       "75%                 4.390000              10.500000              11.630000   \n",
       "max                56.549999              83.889999              64.849998   \n",
       "\n",
       "       wind-vwnd-925-2010-18  wind-vwnd-925-2010-19  wind-vwnd-925-2010-20  \n",
       "count          375734.000000          375734.000000          375734.000000  \n",
       "mean               16.014360              10.489945              11.296336  \n",
       "std                25.847456              25.070435              25.113214  \n",
       "min               -52.610001             -66.110001             -57.610001  \n",
       "25%                -0.360000              -6.790000              -5.570000  \n",
       "50%                18.650000              11.860000              11.650000  \n",
       "75%                31.209999              29.040001              29.180000  \n",
       "max                90.389999              76.889999              88.660004  \n",
       "\n",
       "[8 rows x 244 columns]"
      ]
     },
     "execution_count": 9,
     "metadata": {},
     "output_type": "execute_result"
    }
   ],
   "source": [
    "cc_train.describe()"
   ]
  },
  {
   "cell_type": "code",
   "execution_count": 10,
   "id": "588853e5",
   "metadata": {
    "execution": {
     "iopub.execute_input": "2023-02-14T17:18:33.046588Z",
     "iopub.status.busy": "2023-02-14T17:18:33.045666Z",
     "iopub.status.idle": "2023-02-14T17:18:33.052541Z",
     "shell.execute_reply": "2023-02-14T17:18:33.051619Z"
    },
    "papermill": {
     "duration": 0.023867,
     "end_time": "2023-02-14T17:18:33.054576",
     "exception": false,
     "start_time": "2023-02-14T17:18:33.030709",
     "status": "completed"
    },
    "tags": []
   },
   "outputs": [
    {
     "data": {
      "text/plain": [
       "(31354, 245)"
      ]
     },
     "execution_count": 10,
     "metadata": {},
     "output_type": "execute_result"
    }
   ],
   "source": [
    "cc_test.shape"
   ]
  },
  {
   "cell_type": "code",
   "execution_count": 11,
   "id": "0772d67e",
   "metadata": {
    "execution": {
     "iopub.execute_input": "2023-02-14T17:18:33.084152Z",
     "iopub.status.busy": "2023-02-14T17:18:33.083300Z",
     "iopub.status.idle": "2023-02-14T17:18:33.102231Z",
     "shell.execute_reply": "2023-02-14T17:18:33.101141Z"
    },
    "papermill": {
     "duration": 0.036069,
     "end_time": "2023-02-14T17:18:33.104622",
     "exception": false,
     "start_time": "2023-02-14T17:18:33.068553",
     "status": "completed"
    },
    "tags": []
   },
   "outputs": [
    {
     "data": {
      "text/html": [
       "<div>\n",
       "<style scoped>\n",
       "    .dataframe tbody tr th:only-of-type {\n",
       "        vertical-align: middle;\n",
       "    }\n",
       "\n",
       "    .dataframe tbody tr th {\n",
       "        vertical-align: top;\n",
       "    }\n",
       "\n",
       "    .dataframe thead th {\n",
       "        text-align: right;\n",
       "    }\n",
       "</style>\n",
       "<table border=\"1\" class=\"dataframe\">\n",
       "  <thead>\n",
       "    <tr style=\"text-align: right;\">\n",
       "      <th></th>\n",
       "      <th>contest-tmp2m-14d__tmp2m</th>\n",
       "      <th>index</th>\n",
       "    </tr>\n",
       "  </thead>\n",
       "  <tbody>\n",
       "    <tr>\n",
       "      <th>count</th>\n",
       "      <td>31354.000000</td>\n",
       "      <td>31354.000000</td>\n",
       "    </tr>\n",
       "    <tr>\n",
       "      <th>mean</th>\n",
       "      <td>25.006322</td>\n",
       "      <td>391410.500000</td>\n",
       "    </tr>\n",
       "    <tr>\n",
       "      <th>std</th>\n",
       "      <td>2.891139</td>\n",
       "      <td>9051.264507</td>\n",
       "    </tr>\n",
       "    <tr>\n",
       "      <th>min</th>\n",
       "      <td>20.000011</td>\n",
       "      <td>375734.000000</td>\n",
       "    </tr>\n",
       "    <tr>\n",
       "      <th>25%</th>\n",
       "      <td>22.503063</td>\n",
       "      <td>383572.250000</td>\n",
       "    </tr>\n",
       "    <tr>\n",
       "      <th>50%</th>\n",
       "      <td>25.030905</td>\n",
       "      <td>391410.500000</td>\n",
       "    </tr>\n",
       "    <tr>\n",
       "      <th>75%</th>\n",
       "      <td>27.511672</td>\n",
       "      <td>399248.750000</td>\n",
       "    </tr>\n",
       "    <tr>\n",
       "      <th>max</th>\n",
       "      <td>29.997898</td>\n",
       "      <td>407087.000000</td>\n",
       "    </tr>\n",
       "  </tbody>\n",
       "</table>\n",
       "</div>"
      ],
      "text/plain": [
       "       contest-tmp2m-14d__tmp2m          index\n",
       "count              31354.000000   31354.000000\n",
       "mean                  25.006322  391410.500000\n",
       "std                    2.891139    9051.264507\n",
       "min                   20.000011  375734.000000\n",
       "25%                   22.503063  383572.250000\n",
       "50%                   25.030905  391410.500000\n",
       "75%                   27.511672  399248.750000\n",
       "max                   29.997898  407087.000000"
      ]
     },
     "execution_count": 11,
     "metadata": {},
     "output_type": "execute_result"
    }
   ],
   "source": [
    "cc_sample.describe()"
   ]
  },
  {
   "cell_type": "markdown",
   "id": "70f75170",
   "metadata": {
    "papermill": {
     "duration": 0.013567,
     "end_time": "2023-02-14T17:18:33.132283",
     "exception": false,
     "start_time": "2023-02-14T17:18:33.118716",
     "status": "completed"
    },
    "tags": []
   },
   "source": [
    "# Visualizing the target variable\n",
    "`contest-tmp2m-14d__tmp2m`"
   ]
  },
  {
   "cell_type": "code",
   "execution_count": 12,
   "id": "75fe8c81",
   "metadata": {
    "execution": {
     "iopub.execute_input": "2023-02-14T17:18:33.162155Z",
     "iopub.status.busy": "2023-02-14T17:18:33.161795Z",
     "iopub.status.idle": "2023-02-14T17:18:34.996152Z",
     "shell.execute_reply": "2023-02-14T17:18:34.995045Z"
    },
    "papermill": {
     "duration": 1.852032,
     "end_time": "2023-02-14T17:18:34.998540",
     "exception": false,
     "start_time": "2023-02-14T17:18:33.146508",
     "status": "completed"
    },
    "tags": []
   },
   "outputs": [
    {
     "data": {
      "image/png": "[encoded data removed]",
      "text/plain": [
       "<Figure size 1500x700 with 2 Axes>"
      ]
     },
     "metadata": {},
     "output_type": "display_data"
    }
   ],
   "source": [
    "def target_var_visualized():\n",
    "  plt.figure(figsize=(15,7))\n",
    "  plt.subplot(121)\n",
    "  sb.kdeplot(cc_train['contest-tmp2m-14d__tmp2m'], color = \"#ffd514\")\n",
    "  plt.subplot(122)\n",
    "  sb.boxplot(data=cc_train['contest-tmp2m-14d__tmp2m'], color = \"#ff355d\")\n",
    "target_var_visualized()"
   ]
  },
  {
   "cell_type": "markdown",
   "id": "55ff39c1",
   "metadata": {
    "papermill": {
     "duration": 0.014208,
     "end_time": "2023-02-14T17:18:35.027603",
     "exception": false,
     "start_time": "2023-02-14T17:18:35.013395",
     "status": "completed"
    },
    "tags": []
   },
   "source": [
    "## Displaying the distribution of the target variable in the train and test"
   ]
  },
  {
   "cell_type": "code",
   "execution_count": 13,
   "id": "203d6257",
   "metadata": {
    "execution": {
     "iopub.execute_input": "2023-02-14T17:18:35.057939Z",
     "iopub.status.busy": "2023-02-14T17:18:35.057117Z",
     "iopub.status.idle": "2023-02-14T17:18:35.788742Z",
     "shell.execute_reply": "2023-02-14T17:18:35.787689Z"
    },
    "papermill": {
     "duration": 0.749452,
     "end_time": "2023-02-14T17:18:35.791378",
     "exception": false,
     "start_time": "2023-02-14T17:18:35.041926",
     "status": "completed"
    },
    "tags": []
   },
   "outputs": [
    {
     "data": {
      "image/png": "[encoded data removed]",
      "text/plain": [
       "<Figure size 640x480 with 1 Axes>"
      ]
     },
     "metadata": {},
     "output_type": "display_data"
    }
   ],
   "source": [
    "def histogram_plot(data, label, title):\n",
    "    sb.histplot(data, color='blue', label=label)\n",
    "    plt.legend()\n",
    "    plt.title(title)\n",
    "    plt.show()\n",
    "histogram_plot(data=cc_train['contest-tmp2m-14d__tmp2m'], label=\"contest-tmp2m-14d__tmp2m\", title=\"Target Variable distribution\")"
   ]
  },
  {
   "cell_type": "markdown",
   "id": "b6f0e045",
   "metadata": {
    "papermill": {
     "duration": 0.016086,
     "end_time": "2023-02-14T17:18:35.823339",
     "exception": false,
     "start_time": "2023-02-14T17:18:35.807253",
     "status": "completed"
    },
    "tags": []
   },
   "source": [
    "**The target variable is not in the test dataset**"
   ]
  },
  {
   "cell_type": "markdown",
   "id": "d2d06fcb",
   "metadata": {
    "papermill": {
     "duration": 0.014674,
     "end_time": "2023-02-14T17:18:35.852964",
     "exception": false,
     "start_time": "2023-02-14T17:18:35.838290",
     "status": "completed"
    },
    "tags": []
   },
   "source": [
    "### Simple for loop to list out the features from the train dataset"
   ]
  },
  {
   "cell_type": "code",
   "execution_count": 14,
   "id": "80ae9a58",
   "metadata": {
    "_kg_hide-input": false,
    "execution": {
     "iopub.execute_input": "2023-02-14T17:18:35.884002Z",
     "iopub.status.busy": "2023-02-14T17:18:35.883637Z",
     "iopub.status.idle": "2023-02-14T17:18:35.890015Z",
     "shell.execute_reply": "2023-02-14T17:18:35.889109Z"
    },
    "papermill": {
     "duration": 0.024233,
     "end_time": "2023-02-14T17:18:35.891943",
     "exception": false,
     "start_time": "2023-02-14T17:18:35.867710",
     "status": "completed"
    },
    "tags": []
   },
   "outputs": [
    {
     "data": {
      "text/plain": [
       "\"\\ntest_col = cc_test.columns\\ncount = 0\\nfor name in test_col:\\n  if count % 50 == 0:\\n    print()\\n  print(name + ', ', end='')\\n  count += 1\\n\""
      ]
     },
     "execution_count": 14,
     "metadata": {},
     "output_type": "execute_result"
    }
   ],
   "source": [
    "'''\n",
    "test_col = cc_test.columns\n",
    "count = 0\n",
    "for name in test_col:\n",
    "  if count % 50 == 0:\n",
    "    print()\n",
    "  print(name + ', ', end='')\n",
    "  count += 1\n",
    "'''"
   ]
  },
  {
   "cell_type": "code",
   "execution_count": 15,
   "id": "f480f347",
   "metadata": {
    "execution": {
     "iopub.execute_input": "2023-02-14T17:18:35.923201Z",
     "iopub.status.busy": "2023-02-14T17:18:35.922907Z",
     "iopub.status.idle": "2023-02-14T17:18:36.016556Z",
     "shell.execute_reply": "2023-02-14T17:18:36.015432Z"
    },
    "papermill": {
     "duration": 0.11235,
     "end_time": "2023-02-14T17:18:36.019209",
     "exception": false,
     "start_time": "2023-02-14T17:18:35.906859",
     "status": "completed"
    },
    "tags": []
   },
   "outputs": [
    {
     "data": {
      "text/plain": [
       "['nmme0-tmp2m-34w__ccsm30',\n",
       " 'nmme-tmp2m-56w__ccsm3',\n",
       " 'nmme-prate-34w__ccsm3',\n",
       " 'nmme0-prate-56w__ccsm30',\n",
       " 'nmme0-prate-34w__ccsm30',\n",
       " 'nmme-prate-56w__ccsm3',\n",
       " 'nmme-tmp2m-34w__ccsm3',\n",
       " 'ccsm30']"
      ]
     },
     "execution_count": 15,
     "metadata": {},
     "output_type": "execute_result"
    }
   ],
   "source": [
    "cc_train.columns[cc_train.isna().any()].tolist()"
   ]
  },
  {
   "cell_type": "code",
   "execution_count": 16,
   "id": "6f70afa4",
   "metadata": {
    "execution": {
     "iopub.execute_input": "2023-02-14T17:18:36.052293Z",
     "iopub.status.busy": "2023-02-14T17:18:36.051380Z",
     "iopub.status.idle": "2023-02-14T17:18:36.069229Z",
     "shell.execute_reply": "2023-02-14T17:18:36.068169Z"
    },
    "papermill": {
     "duration": 0.036335,
     "end_time": "2023-02-14T17:18:36.071616",
     "exception": false,
     "start_time": "2023-02-14T17:18:36.035281",
     "status": "completed"
    },
    "tags": []
   },
   "outputs": [
    {
     "data": {
      "text/plain": [
       "[]"
      ]
     },
     "execution_count": 16,
     "metadata": {},
     "output_type": "execute_result"
    }
   ],
   "source": [
    "cc_test.columns[cc_test.isna().any()].tolist()"
   ]
  },
  {
   "cell_type": "code",
   "execution_count": 17,
   "id": "56154dd0",
   "metadata": {
    "execution": {
     "iopub.execute_input": "2023-02-14T17:18:36.104374Z",
     "iopub.status.busy": "2023-02-14T17:18:36.104016Z",
     "iopub.status.idle": "2023-02-14T17:18:36.112519Z",
     "shell.execute_reply": "2023-02-14T17:18:36.111524Z"
    },
    "papermill": {
     "duration": 0.02726,
     "end_time": "2023-02-14T17:18:36.114541",
     "exception": false,
     "start_time": "2023-02-14T17:18:36.087281",
     "status": "completed"
    },
    "tags": []
   },
   "outputs": [
    {
     "data": {
      "text/plain": [
       "[]"
      ]
     },
     "execution_count": 17,
     "metadata": {},
     "output_type": "execute_result"
    }
   ],
   "source": [
    "cc_sample.columns[cc_sample.isna().any()].tolist()"
   ]
  },
  {
   "cell_type": "code",
   "execution_count": 18,
   "id": "1277e6cd",
   "metadata": {
    "execution": {
     "iopub.execute_input": "2023-02-14T17:18:36.147767Z",
     "iopub.status.busy": "2023-02-14T17:18:36.146888Z",
     "iopub.status.idle": "2023-02-14T17:18:37.990250Z",
     "shell.execute_reply": "2023-02-14T17:18:37.989288Z"
    },
    "papermill": {
     "duration": 1.862608,
     "end_time": "2023-02-14T17:18:37.992581",
     "exception": false,
     "start_time": "2023-02-14T17:18:36.129973",
     "status": "completed"
    },
    "tags": []
   },
   "outputs": [
    {
     "data": {
      "image/png": "[encoded data removed]",
      "text/plain": [
       "<Figure size 1000x500 with 1 Axes>"
      ]
     },
     "metadata": {},
     "output_type": "display_data"
    }
   ],
   "source": [
    "def train_test_dist(train, test):\n",
    "    fig, ax = plt.subplots(figsize = (10, 5))\n",
    "    sb.kdeplot(data=train,  color='blue', fill=True, ax=ax, label=\"Train Data\")\n",
    "    sb.kdeplot(data=test, color='orange', fill=True, ax=ax, label=\"Test Data\")\n",
    "    plt.legend()\n",
    "    plt.show()\n",
    "    \n",
    "#train_target = cc_train['contest-tmp2m-14d__tmp2m']\n",
    "#test_target = cc_test['contest-tmp2m-14d__tmp2m']\n",
    "train_target = cc_train['nmme0-tmp2m-34w__nmme0mean']\n",
    "test_target = cc_test['nmme0-tmp2m-34w__nmme0mean']\n",
    "train_test_dist(train_target, test_target)"
   ]
  },
  {
   "cell_type": "markdown",
   "id": "dd0a150b",
   "metadata": {
    "papermill": {
     "duration": 0.015876,
     "end_time": "2023-02-14T17:18:38.029552",
     "exception": false,
     "start_time": "2023-02-14T17:18:38.013676",
     "status": "completed"
    },
    "tags": []
   },
   "source": [
    "# Visualising Categorical columns"
   ]
  },
  {
   "cell_type": "code",
   "execution_count": 19,
   "id": "7c360d64",
   "metadata": {
    "execution": {
     "iopub.execute_input": "2023-02-14T17:18:38.064015Z",
     "iopub.status.busy": "2023-02-14T17:18:38.063622Z",
     "iopub.status.idle": "2023-02-14T17:18:45.845790Z",
     "shell.execute_reply": "2023-02-14T17:18:45.844714Z"
    },
    "papermill": {
     "duration": 7.802163,
     "end_time": "2023-02-14T17:18:45.848155",
     "exception": false,
     "start_time": "2023-02-14T17:18:38.045992",
     "status": "completed"
    },
    "tags": []
   },
   "outputs": [
    {
     "data": {
      "image/png": "[encoded data removed]",
      "text/plain": [
       "<Figure size 1000x500 with 1 Axes>"
      ]
     },
     "metadata": {},
     "output_type": "display_data"
    },
    {
     "data": {
      "image/png": "[encoded data removed]",
      "text/plain": [
       "<Figure size 1000x500 with 1 Axes>"
      ]
     },
     "metadata": {},
     "output_type": "display_data"
    }
   ],
   "source": [
    "\n",
    "# Plot bar plots for all categorical columns\n",
    "for column in cc_train.select_dtypes(include=['object']).columns:\n",
    "    cc_train[column].value_counts().plot(kind='bar', figsize=(10,5))\n",
    "    plt.title(column)\n",
    "    plt.show()\n",
    "    "
   ]
  },
  {
   "cell_type": "code",
   "execution_count": 20,
   "id": "756c55b6",
   "metadata": {
    "execution": {
     "iopub.execute_input": "2023-02-14T17:18:45.885693Z",
     "iopub.status.busy": "2023-02-14T17:18:45.884637Z",
     "iopub.status.idle": "2023-02-14T17:18:45.891466Z",
     "shell.execute_reply": "2023-02-14T17:18:45.890534Z"
    },
    "papermill": {
     "duration": 0.028204,
     "end_time": "2023-02-14T17:18:45.894006",
     "exception": false,
     "start_time": "2023-02-14T17:18:45.865802",
     "status": "completed"
    },
    "tags": []
   },
   "outputs": [
    {
     "data": {
      "text/plain": [
       "'\\ndef plot_boxplots(data, target_column):\\n    num_cols = data.select_dtypes(exclude=[\\'object\\']).columns\\n    for col in num_cols:\\n        plt.figure(figsize=(10, 5))\\n        sb.boxplot(x=target_column, y=col, data=data)\\n        plt.title(col + \" vs \" + target_column)\\n        plt.show()\\nplot_boxplots(cc_train, \\'contest-tmp2m-14d__tmp2m\\')\\n'"
      ]
     },
     "execution_count": 20,
     "metadata": {},
     "output_type": "execute_result"
    }
   ],
   "source": [
    "'''\n",
    "def plot_boxplots(data, target_column):\n",
    "    num_cols = data.select_dtypes(exclude=['object']).columns\n",
    "    for col in num_cols:\n",
    "        plt.figure(figsize=(10, 5))\n",
    "        sb.boxplot(x=target_column, y=col, data=data)\n",
    "        plt.title(col + \" vs \" + target_column)\n",
    "        plt.show()\n",
    "plot_boxplots(cc_train, 'contest-tmp2m-14d__tmp2m')\n",
    "'''"
   ]
  },
  {
   "cell_type": "markdown",
   "id": "7402e39d",
   "metadata": {
    "papermill": {
     "duration": 0.017172,
     "end_time": "2023-02-14T17:18:45.928674",
     "exception": false,
     "start_time": "2023-02-14T17:18:45.911502",
     "status": "completed"
    },
    "tags": []
   },
   "source": [
    "# Visualising Numerical Columns"
   ]
  },
  {
   "cell_type": "code",
   "execution_count": 21,
   "id": "579a805b",
   "metadata": {
    "execution": {
     "iopub.execute_input": "2023-02-14T17:18:45.966234Z",
     "iopub.status.busy": "2023-02-14T17:18:45.965286Z",
     "iopub.status.idle": "2023-02-14T17:18:45.972465Z",
     "shell.execute_reply": "2023-02-14T17:18:45.971599Z"
    },
    "papermill": {
     "duration": 0.028302,
     "end_time": "2023-02-14T17:18:45.974538",
     "exception": false,
     "start_time": "2023-02-14T17:18:45.946236",
     "status": "completed"
    },
    "tags": []
   },
   "outputs": [],
   "source": [
    "# Plot histograms for all numerical columns\n",
    "num_cols = cc_train.columns\n",
    "def plot_histograms(data, column_list):\n",
    "    \"\"\"\n",
    "    This function plots histograms based on the number of columns and data provided.\n",
    "    \n",
    "    Parameters\n",
    "    ----------\n",
    "    data : pandas dataframe\n",
    "        The data to be plotted.\n",
    "    column_list : a list\n",
    "        The list of 10 numerical column names from the dataset..\n",
    "    \n",
    "    Returns\n",
    "    -------\n",
    "    void\n",
    "        Displays histograms from matplotlib.\n",
    "        The histograms that are being plotted are frequency histograms \n",
    "        for the numerical columns specified in the column_list parameter .\n",
    "    \"\"\"\n",
    "    num_cols = column_list\n",
    "    for col in num_cols:\n",
    "        plt.figure(figsize=(8, 6))\n",
    "        data[col].hist(bins=50)\n",
    "        plt.title(col)\n",
    "        plt.tight_layout()\n",
    "        plt.show()\n",
    "        \n",
    "# plot_histograms(cc_train, num_cols[:10])"
   ]
  },
  {
   "cell_type": "markdown",
   "id": "78b0f5df",
   "metadata": {
    "papermill": {
     "duration": 0.017679,
     "end_time": "2023-02-14T17:18:46.009669",
     "exception": false,
     "start_time": "2023-02-14T17:18:45.991990",
     "status": "completed"
    },
    "tags": []
   },
   "source": [
    "# Null Imputation"
   ]
  },
  {
   "cell_type": "code",
   "execution_count": 22,
   "id": "50efa234",
   "metadata": {
    "execution": {
     "iopub.execute_input": "2023-02-14T17:18:46.046178Z",
     "iopub.status.busy": "2023-02-14T17:18:46.045247Z",
     "iopub.status.idle": "2023-02-14T17:18:46.050489Z",
     "shell.execute_reply": "2023-02-14T17:18:46.049615Z"
    },
    "papermill": {
     "duration": 0.02555,
     "end_time": "2023-02-14T17:18:46.052478",
     "exception": false,
     "start_time": "2023-02-14T17:18:46.026928",
     "status": "completed"
    },
    "tags": []
   },
   "outputs": [],
   "source": [
    "#cc_train['nmme0-prate-34w__ccsm30'] = cc_train['nmme0-prate-34w__ccsm30'].fillna(cc_train['nmme0-prate-34w__ccsm30'].mean())\n",
    "#cc_train['nmme0-tmp2m-34w__ccsm30'] = cc_train['nmme0-tmp2m-34w__ccsm30'].fillna(cc_train['nmme0-tmp2m-34w__ccsm30'].mean())\n",
    "#cc_train['ccsm30'] = cc_train['ccsm30'].fillna(cc_train['ccsm30'].mean())\n",
    "#cc_train['nmme0-prate-56w__ccsm30'] = cc_train['nmme0-prate-56w__ccsm30'].fillna(cc_train['nmme0-prate-56w__ccsm30'].mean())\n",
    "#cc_train['nmme-tmp2m-56w__ccsm3'] = cc_train['nmme-tmp2m-56w__ccsm3'].fillna(cc_train['nmme-tmp2m-56w__ccsm3'].mean())\n",
    "#cc_train['nmme-prate-56w__ccsm3'] = cc_train['nmme-prate-56w__ccsm3'].fillna(cc_train['nmme-prate-56w__ccsm3'].mean())\n",
    "#cc_train['nmme-tmp2m-34w__ccsm3'] = cc_train['nmme-tmp2m-34w__ccsm3'].fillna(cc_train['nmme-tmp2m-34w__ccsm3'].mean())\n",
    "#cc_train['nmme-prate-34w__ccsm3'] = cc_train['nmme-prate-34w__ccsm3'].fillna(cc_train['nmme-prate-34w__ccsm3'].mean())"
   ]
  },
  {
   "cell_type": "markdown",
   "id": "1b9a1e59",
   "metadata": {
    "papermill": {
     "duration": 0.017197,
     "end_time": "2023-02-14T17:18:46.087101",
     "exception": false,
     "start_time": "2023-02-14T17:18:46.069904",
     "status": "completed"
    },
    "tags": []
   },
   "source": [
    "# Feature Engineering"
   ]
  },
  {
   "cell_type": "code",
   "execution_count": 23,
   "id": "6eb2bae8",
   "metadata": {
    "execution": {
     "iopub.execute_input": "2023-02-14T17:18:46.124213Z",
     "iopub.status.busy": "2023-02-14T17:18:46.123265Z",
     "iopub.status.idle": "2023-02-14T17:18:46.128324Z",
     "shell.execute_reply": "2023-02-14T17:18:46.127416Z"
    },
    "papermill": {
     "duration": 0.025989,
     "end_time": "2023-02-14T17:18:46.130418",
     "exception": false,
     "start_time": "2023-02-14T17:18:46.104429",
     "status": "completed"
    },
    "tags": []
   },
   "outputs": [],
   "source": [
    "#cc_train['year']=pd.DatetimeIndex(cc_train['startdate']).year \n",
    "#cc_train['month']=pd.DatetimeIndex(cc_train['startdate']).month \n",
    "#cc_train['day']=pd.DatetimeIndex(cc_train['startdate']).day\n",
    "#cc_test['year']=pd.DatetimeIndex(cc_test['startdate']).year \n",
    "#cc_test['month']=pd.DatetimeIndex(cc_test['startdate']).month \n",
    "#cc_test['day']=pd.DatetimeIndex(cc_test['startdate']).day"
   ]
  },
  {
   "cell_type": "markdown",
   "id": "269abd88",
   "metadata": {
    "papermill": {
     "duration": 0.017265,
     "end_time": "2023-02-14T17:18:46.165417",
     "exception": false,
     "start_time": "2023-02-14T17:18:46.148152",
     "status": "completed"
    },
    "tags": []
   },
   "source": [
    "# Data Preproccessing"
   ]
  },
  {
   "cell_type": "code",
   "execution_count": 24,
   "id": "65b3e623",
   "metadata": {
    "execution": {
     "iopub.execute_input": "2023-02-14T17:18:46.202349Z",
     "iopub.status.busy": "2023-02-14T17:18:46.201694Z",
     "iopub.status.idle": "2023-02-14T17:18:46.216365Z",
     "shell.execute_reply": "2023-02-14T17:18:46.215493Z"
    },
    "papermill": {
     "duration": 0.035327,
     "end_time": "2023-02-14T17:18:46.218253",
     "exception": false,
     "start_time": "2023-02-14T17:18:46.182926",
     "status": "completed"
    },
    "tags": []
   },
   "outputs": [],
   "source": [
    "def location_feature(train, test):\n",
    "    # Reference: https://www.kaggle.com/code/flaviafelicioni/wids-2023-different-locations-train-test-solved\n",
    "    scale = 14\n",
    "    train.loc[:,'lat']=round(train.lat,scale)\n",
    "    train.loc[:,'lon']=round(train.lon,scale)\n",
    "    test.loc[:,'lat']=round(test.lat,scale)\n",
    "    test.loc[:,'lon']=round(test.lon,scale)\n",
    "    \n",
    "    train_and_test = pd.concat([train, test], axis=0)\n",
    "    train_and_test['loc_group'] = train_and_test.groupby(['lat', 'lon']).ngroup()\n",
    "    print(f'{train_and_test.loc_group.nunique()} unique locations')\n",
    "    \n",
    "    train = train_and_test.iloc[:len(train)]\n",
    "    test = train_and_test.iloc[len(train):].drop(target, axis=1)\n",
    "    \n",
    "    return train, test\n",
    "\n",
    "def cat_encode(train, test):\n",
    "    # encoding the categorical feature in the train and test data set\n",
    "    # using OneHotEncoder\n",
    "    ohe = OneHotEncoder()\n",
    "    train_encoded = ohe.fit_transform(train[['climateregions__climateregion']])\n",
    "    test_encoded = ohe.transform(test[['climateregions__climateregion']])\n",
    "    \n",
    "    train = train.drop(['climateregions__climateregion'], axis=1)\n",
    "    test = test.drop(['climateregions__climateregion'], axis=1)\n",
    "    \n",
    "    train_encoded = pd.DataFrame(train_encoded.toarray(), columns=ohe.get_feature_names_out(['climateregions__climateregion']))\n",
    "    test_encoded = pd.DataFrame(test_encoded.toarray(), columns=ohe.get_feature_names_out(['climateregions__climateregion']))\n",
    "    \n",
    "    train = pd.concat([train, train_encoded], axis=1)\n",
    "    test = pd.concat([test, test_encoded], axis=1)\n",
    "    \n",
    "    return train, test\n",
    "\n",
    "    \n",
    "def fill_na_rows(dataset):\n",
    "    # Find the columns with missing values\n",
    "    columns_with_missing_values = dataset.columns[dataset.isnull().any()].tolist()\n",
    "    \n",
    "    # Impute the missing values with the mean value of that column\n",
    "    for col in columns_with_missing_values:\n",
    "        dataset[col].fillna(dataset[col].mean(), inplace=True)\n",
    "        \n",
    "    return dataset\n",
    "\n",
    "def create_new_feat(dataset):\n",
    "    dataset['year']=pd.DatetimeIndex(dataset['startdate']).year \n",
    "    dataset['month']=pd.DatetimeIndex(dataset['startdate']).month \n",
    "    dataset['day']=pd.DatetimeIndex(dataset['startdate']).day\n",
    "    return dataset\n",
    "\n",
    "def feature_engineering(origin_train, origin_test):\n",
    "    train, test = origin_train, origin_test\n",
    "    train = fill_na_rows(train)\n",
    "    train = create_new_feat(train)\n",
    "    test = create_new_feat(test)\n",
    "    train, test = cat_encode(train, test)\n",
    "    irrelevant_cols = ['index', 'startdate','contest-tmp2m-14d__tmp2m', 'climateregions__climateregion']\n",
    "    features = [col for col in train.columns if col not in irrelevant_cols]\n",
    "    #features = [col for col in train.columns]\n",
    "    X = train[features]\n",
    "    X_test = test[features]\n",
    "    y = train['contest-tmp2m-14d__tmp2m']\n",
    "    # Initialize the scaler\n",
    "    #scaler = MinMaxScaler()\n",
    "\n",
    "    # Fit the scaler to the train data\n",
    "    #scaler.fit(X)\n",
    "\n",
    "    # Transform the train data\n",
    "    #X_train_scaled = scaler.transform(X)\n",
    "\n",
    "    # Transform the test data\n",
    "    #X_test_scaled = scaler.transform(X_test)\n",
    "    \n",
    "    return X, y, X_test\n",
    "\n",
    "\n",
    "    \n",
    "    "
   ]
  },
  {
   "cell_type": "markdown",
   "id": "3fed9c39",
   "metadata": {
    "papermill": {
     "duration": 0.017504,
     "end_time": "2023-02-14T17:18:46.253136",
     "exception": false,
     "start_time": "2023-02-14T17:18:46.235632",
     "status": "completed"
    },
    "tags": []
   },
   "source": [
    "# Machine Learning Model\n",
    "## RandomForestRegressor\n",
    "\n",
    "Random Forest Regressor is a commonly used machine learning algorithm for regression problems and was chosen in this case because:\n",
    "\n",
    "- It can handle both linear and non-linear relationships between features and target variables.\n",
    "\n",
    "- It can handle missing data and is robust to noisy data.\n",
    "\n",
    "- It is an ensemble method, which means it combines multiple decision trees to produce a more accurate and stable prediction.\n",
    "\n",
    "- It can provide feature importance scores, which can be useful in identifying the most important features in the data.\n",
    "\n",
    "- It is easy to implement and provides good results out-of-the-box, especially for large datasets with a large number of features.\n",
    "\n",
    "These properties make Random Forest Regressor a good choice for a first attempt at solving this regression problem, and it can be a good starting point for further tuning and optimization"
   ]
  },
  {
   "cell_type": "markdown",
   "id": "b36a3f7c",
   "metadata": {
    "papermill": {
     "duration": 0.017356,
     "end_time": "2023-02-14T17:18:46.288077",
     "exception": false,
     "start_time": "2023-02-14T17:18:46.270721",
     "status": "completed"
    },
    "tags": []
   },
   "source": [
    "# Splittin the data set to train the model"
   ]
  },
  {
   "cell_type": "markdown",
   "id": "8b23a328",
   "metadata": {
    "papermill": {
     "duration": 0.017023,
     "end_time": "2023-02-14T17:18:46.322442",
     "exception": false,
     "start_time": "2023-02-14T17:18:46.305419",
     "status": "completed"
    },
    "tags": []
   },
   "source": [
    "Target variable: `contest-tmp2m-14d__tmp2m`\n",
    "\n",
    "[WiDS Datathon Challenge](https://www.kaggle.com/competitions/widsdatathon2023/data)\n",
    "\n",
    "Definition of target variable: \n",
    "- the arithmetic mean of the max and min observed temperature over the next 14 days for each location and start date, is provided\n",
    "\n",
    "Evaluation Metric:\n",
    "\n",
    "[Evaluation Reference](https://www.kaggle.com/competitions/widsdatathon2023/overview/evaluation)\n",
    "\n",
    "Root Mean Squared Error (RMSE)"
   ]
  },
  {
   "cell_type": "code",
   "execution_count": 25,
   "id": "b43bf457",
   "metadata": {
    "execution": {
     "iopub.execute_input": "2023-02-14T17:18:46.359183Z",
     "iopub.status.busy": "2023-02-14T17:18:46.358228Z",
     "iopub.status.idle": "2023-02-14T17:18:46.375850Z",
     "shell.execute_reply": "2023-02-14T17:18:46.374964Z"
    },
    "papermill": {
     "duration": 0.038102,
     "end_time": "2023-02-14T17:18:46.377748",
     "exception": false,
     "start_time": "2023-02-14T17:18:46.339646",
     "status": "completed"
    },
    "tags": []
   },
   "outputs": [],
   "source": [
    "target=\"contest-tmp2m-14d__tmp2m\"\n",
    "cc_test_copy = cc_test.copy()"
   ]
  },
  {
   "cell_type": "code",
   "execution_count": 26,
   "id": "fcbc19dc",
   "metadata": {
    "execution": {
     "iopub.execute_input": "2023-02-14T17:18:46.414212Z",
     "iopub.status.busy": "2023-02-14T17:18:46.413395Z",
     "iopub.status.idle": "2023-02-14T17:20:03.887960Z",
     "shell.execute_reply": "2023-02-14T17:20:03.886926Z"
    },
    "papermill": {
     "duration": 77.495325,
     "end_time": "2023-02-14T17:20:03.890554",
     "exception": false,
     "start_time": "2023-02-14T17:18:46.395229",
     "status": "completed"
    },
    "tags": []
   },
   "outputs": [],
   "source": [
    "# Split the data into training and test sets\n",
    "X, y, X_test = feature_engineering(cc_train.copy(), cc_test.copy())\n",
    "\n"
   ]
  },
  {
   "cell_type": "markdown",
   "id": "3fea57ea",
   "metadata": {
    "papermill": {
     "duration": 0.017937,
     "end_time": "2023-02-14T17:20:03.926855",
     "exception": false,
     "start_time": "2023-02-14T17:20:03.908918",
     "status": "completed"
    },
    "tags": []
   },
   "source": [
    "# Checking Correlation"
   ]
  },
  {
   "cell_type": "code",
   "execution_count": 27,
   "id": "5122398d",
   "metadata": {
    "execution": {
     "iopub.execute_input": "2023-02-14T17:20:03.964231Z",
     "iopub.status.busy": "2023-02-14T17:20:03.963875Z",
     "iopub.status.idle": "2023-02-14T17:20:03.969771Z",
     "shell.execute_reply": "2023-02-14T17:20:03.968628Z"
    },
    "papermill": {
     "duration": 0.026459,
     "end_time": "2023-02-14T17:20:03.971706",
     "exception": false,
     "start_time": "2023-02-14T17:20:03.945247",
     "status": "completed"
    },
    "tags": []
   },
   "outputs": [],
   "source": [
    "## Identify correlated features to drop that fall above a correlation threshold \n",
    "## https://goodboychan.github.io/python/datacamp/machine_learning/2020/07/08/02-Feature-selection-I-selecting-for-feature-information.html \n",
    "\n",
    "def identify_correlated(df, threshold):\n",
    "    corr_matrix = df.corr().abs()\n",
    "    mask = np.triu(np.ones_like(corr_matrix, dtype=bool))\n",
    "    reduced_corr_matrix = corr_matrix.mask(mask)\n",
    "    features_to_drop = [c for c in reduced_corr_matrix.columns if any(reduced_corr_matrix[c] > threshold)]\n",
    "    return features_to_drop"
   ]
  },
  {
   "cell_type": "code",
   "execution_count": 28,
   "id": "a106e461",
   "metadata": {
    "execution": {
     "iopub.execute_input": "2023-02-14T17:20:04.008079Z",
     "iopub.status.busy": "2023-02-14T17:20:04.007392Z",
     "iopub.status.idle": "2023-02-14T17:20:56.725938Z",
     "shell.execute_reply": "2023-02-14T17:20:56.724937Z"
    },
    "papermill": {
     "duration": 52.739272,
     "end_time": "2023-02-14T17:20:56.728374",
     "exception": false,
     "start_time": "2023-02-14T17:20:03.989102",
     "status": "completed"
    },
    "tags": []
   },
   "outputs": [],
   "source": [
    "# afterwards i should print out the columns that are of high importance from the models\n",
    "# perform PCA and see if it determines the same features as the corr_matrix\n",
    "# at.96 the score is ~1.24 (~51 columns dropped)\n",
    "# at .70 the score is ~1.4 (~100+ columns dropped)\n",
    "# at .80 the score is ~0.968 (100 columns dropped) - but why were these columns so unimportant that dropping it had a better outcome as compared to the other trials with .95 and .70 ?\n",
    "# **Besides the fact that they were highly correlated - at .70 had more columns but dropping the columns identifed at .70 had a worse score than .80\n",
    "features_to_drop = identify_correlated(cc_train, .80)"
   ]
  },
  {
   "cell_type": "code",
   "execution_count": 29,
   "id": "9421f785",
   "metadata": {
    "execution": {
     "iopub.execute_input": "2023-02-14T17:20:56.765689Z",
     "iopub.status.busy": "2023-02-14T17:20:56.765336Z",
     "iopub.status.idle": "2023-02-14T17:20:56.770647Z",
     "shell.execute_reply": "2023-02-14T17:20:56.769688Z"
    },
    "papermill": {
     "duration": 0.027262,
     "end_time": "2023-02-14T17:20:56.773725",
     "exception": false,
     "start_time": "2023-02-14T17:20:56.746463",
     "status": "completed"
    },
    "tags": []
   },
   "outputs": [
    {
     "name": "stdout",
     "output_type": "stream",
     "text": [
      "100\n",
      "['index', 'contest-pevpr-sfc-gauss-14d__pevpr', 'nmme0-tmp2m-34w__cancm30', 'nmme0-tmp2m-34w__cancm40', 'nmme0-tmp2m-34w__ccsm30', 'nmme0-tmp2m-34w__ccsm40', 'nmme0-tmp2m-34w__cfsv20', 'nmme0-tmp2m-34w__gfdlflora0', 'nmme0-tmp2m-34w__gfdlflorb0', 'nmme0-tmp2m-34w__gfdl0', 'nmme0-tmp2m-34w__nasa0', 'nmme0-tmp2m-34w__nmme0mean', 'contest-wind-h10-14d__wind-hgt-10', 'nmme-tmp2m-56w__cancm3', 'nmme-tmp2m-56w__cancm4', 'nmme-tmp2m-56w__ccsm3', 'nmme-tmp2m-56w__ccsm4', 'nmme-tmp2m-56w__cfsv2', 'nmme-tmp2m-56w__gfdl', 'nmme-tmp2m-56w__gfdlflora', 'nmme-tmp2m-56w__gfdlflorb', 'nmme-tmp2m-56w__nasa', 'nmme-tmp2m-56w__nmmemean', 'nmme-prate-34w__cancm3', 'nmme-prate-34w__cancm4', 'nmme-prate-34w__ccsm3', 'nmme-prate-34w__ccsm4', 'nmme-prate-34w__cfsv2', 'nmme-prate-34w__gfdl', 'nmme-prate-34w__gfdlflora', 'nmme-prate-34w__gfdlflorb', 'nmme-prate-34w__nasa', 'nmme-prate-34w__nmmemean', 'contest-wind-h100-14d__wind-hgt-100', 'nmme0-prate-56w__cancm30', 'nmme0-prate-56w__cancm40', 'nmme0-prate-56w__ccsm30', 'nmme0-prate-56w__ccsm40', 'nmme0-prate-56w__cfsv20', 'nmme0-prate-56w__gfdlflora0', 'nmme0-prate-56w__gfdlflorb0', 'nmme0-prate-56w__gfdl0', 'nmme0-prate-56w__nasa0', 'nmme0-prate-56w__nmme0mean', 'nmme0-prate-34w__cancm30', 'nmme0-prate-34w__cancm40', 'nmme0-prate-34w__ccsm40', 'nmme0-prate-34w__cfsv20', 'nmme0-prate-34w__gfdlflora0', 'nmme0-prate-34w__gfdlflorb0', 'nmme0-prate-34w__gfdl0', 'nmme0-prate-34w__nasa0', 'nmme0-prate-34w__nmme0mean', 'contest-tmp2m-14d__tmp2m', 'nmme-prate-56w__cancm3', 'nmme-prate-56w__cancm4', 'nmme-prate-56w__ccsm4', 'nmme-prate-56w__cfsv2', 'nmme-prate-56w__gfdl', 'nmme-prate-56w__gfdlflora', 'nmme-prate-56w__gfdlflorb', 'contest-pres-sfc-gauss-14d__pres', 'nmme-tmp2m-34w__cancm3', 'nmme-tmp2m-34w__cancm4', 'nmme-tmp2m-34w__ccsm3', 'nmme-tmp2m-34w__ccsm4', 'nmme-tmp2m-34w__cfsv2', 'nmme-tmp2m-34w__gfdl', 'nmme-tmp2m-34w__gfdlflora', 'nmme-tmp2m-34w__gfdlflorb', 'nmme-tmp2m-34w__nasa', 'nmme-tmp2m-34w__nmmemean', 'cancm30', 'cancm40', 'ccsm30', 'ccsm40', 'cfsv20', 'gfdlflora0', 'gfdlflorb0', 'gfdl0', 'nasa0', 'nmme0mean', 'wind-vwnd-250-2010-1', 'wind-uwnd-250-2010-1', 'wind-uwnd-250-2010-2', 'mei__mei', 'mei__meirank', 'wind-hgt-850-2010-1', 'wind-hgt-850-2010-3', 'wind-hgt-850-2010-5', 'wind-hgt-850-2010-8', 'sst-2010-1', 'wind-hgt-500-2010-1', 'wind-hgt-500-2010-3', 'icec-2010-1', 'icec-2010-5', 'wind-uwnd-925-2010-1', 'wind-hgt-10-2010-1', 'wind-hgt-10-2010-2', 'wind-hgt-100-2010-1']\n"
     ]
    }
   ],
   "source": [
    "print(len(features_to_drop))\n",
    "print(features_to_drop)"
   ]
  },
  {
   "cell_type": "code",
   "execution_count": 30,
   "id": "16efb7c5",
   "metadata": {
    "execution": {
     "iopub.execute_input": "2023-02-14T17:20:56.812531Z",
     "iopub.status.busy": "2023-02-14T17:20:56.811564Z",
     "iopub.status.idle": "2023-02-14T17:20:56.820305Z",
     "shell.execute_reply": "2023-02-14T17:20:56.819249Z"
    },
    "papermill": {
     "duration": 0.029887,
     "end_time": "2023-02-14T17:20:56.822315",
     "exception": false,
     "start_time": "2023-02-14T17:20:56.792428",
     "status": "completed"
    },
    "tags": []
   },
   "outputs": [
    {
     "data": {
      "text/plain": [
       "['contest-pevpr-sfc-gauss-14d__pevpr',\n",
       " 'nmme0-tmp2m-34w__cancm30',\n",
       " 'nmme0-tmp2m-34w__cancm40',\n",
       " 'nmme0-tmp2m-34w__ccsm30',\n",
       " 'nmme0-tmp2m-34w__ccsm40',\n",
       " 'nmme0-tmp2m-34w__cfsv20',\n",
       " 'nmme0-tmp2m-34w__gfdlflora0',\n",
       " 'nmme0-tmp2m-34w__gfdlflorb0',\n",
       " 'nmme0-tmp2m-34w__gfdl0',\n",
       " 'nmme0-tmp2m-34w__nasa0',\n",
       " 'nmme0-tmp2m-34w__nmme0mean',\n",
       " 'contest-wind-h10-14d__wind-hgt-10',\n",
       " 'nmme-tmp2m-56w__cancm3',\n",
       " 'nmme-tmp2m-56w__cancm4',\n",
       " 'nmme-tmp2m-56w__ccsm3',\n",
       " 'nmme-tmp2m-56w__ccsm4',\n",
       " 'nmme-tmp2m-56w__cfsv2',\n",
       " 'nmme-tmp2m-56w__gfdl',\n",
       " 'nmme-tmp2m-56w__gfdlflora',\n",
       " 'nmme-tmp2m-56w__gfdlflorb',\n",
       " 'nmme-tmp2m-56w__nasa',\n",
       " 'nmme-tmp2m-56w__nmmemean',\n",
       " 'nmme-prate-34w__cancm3',\n",
       " 'nmme-prate-34w__cancm4',\n",
       " 'nmme-prate-34w__ccsm3',\n",
       " 'nmme-prate-34w__ccsm4',\n",
       " 'nmme-prate-34w__cfsv2',\n",
       " 'nmme-prate-34w__gfdl',\n",
       " 'nmme-prate-34w__gfdlflora',\n",
       " 'nmme-prate-34w__gfdlflorb',\n",
       " 'nmme-prate-34w__nasa',\n",
       " 'nmme-prate-34w__nmmemean',\n",
       " 'contest-wind-h100-14d__wind-hgt-100',\n",
       " 'nmme0-prate-56w__cancm30',\n",
       " 'nmme0-prate-56w__cancm40',\n",
       " 'nmme0-prate-56w__ccsm30',\n",
       " 'nmme0-prate-56w__ccsm40',\n",
       " 'nmme0-prate-56w__cfsv20',\n",
       " 'nmme0-prate-56w__gfdlflora0',\n",
       " 'nmme0-prate-56w__gfdlflorb0',\n",
       " 'nmme0-prate-56w__gfdl0',\n",
       " 'nmme0-prate-56w__nasa0',\n",
       " 'nmme0-prate-56w__nmme0mean',\n",
       " 'nmme0-prate-34w__cancm30',\n",
       " 'nmme0-prate-34w__cancm40',\n",
       " 'nmme0-prate-34w__ccsm40',\n",
       " 'nmme0-prate-34w__cfsv20',\n",
       " 'nmme0-prate-34w__gfdlflora0',\n",
       " 'nmme0-prate-34w__gfdlflorb0',\n",
       " 'nmme0-prate-34w__gfdl0',\n",
       " 'nmme0-prate-34w__nasa0',\n",
       " 'nmme0-prate-34w__nmme0mean',\n",
       " 'nmme-prate-56w__cancm3',\n",
       " 'nmme-prate-56w__cancm4',\n",
       " 'nmme-prate-56w__ccsm4',\n",
       " 'nmme-prate-56w__cfsv2',\n",
       " 'nmme-prate-56w__gfdl',\n",
       " 'nmme-prate-56w__gfdlflora',\n",
       " 'nmme-prate-56w__gfdlflorb',\n",
       " 'contest-pres-sfc-gauss-14d__pres',\n",
       " 'nmme-tmp2m-34w__cancm3',\n",
       " 'nmme-tmp2m-34w__cancm4',\n",
       " 'nmme-tmp2m-34w__ccsm3',\n",
       " 'nmme-tmp2m-34w__ccsm4',\n",
       " 'nmme-tmp2m-34w__cfsv2',\n",
       " 'nmme-tmp2m-34w__gfdl',\n",
       " 'nmme-tmp2m-34w__gfdlflora',\n",
       " 'nmme-tmp2m-34w__gfdlflorb',\n",
       " 'nmme-tmp2m-34w__nasa',\n",
       " 'nmme-tmp2m-34w__nmmemean',\n",
       " 'cancm30',\n",
       " 'cancm40',\n",
       " 'ccsm30',\n",
       " 'ccsm40',\n",
       " 'cfsv20',\n",
       " 'gfdlflora0',\n",
       " 'gfdlflorb0',\n",
       " 'gfdl0',\n",
       " 'nasa0',\n",
       " 'nmme0mean',\n",
       " 'wind-vwnd-250-2010-1',\n",
       " 'wind-uwnd-250-2010-1',\n",
       " 'wind-uwnd-250-2010-2',\n",
       " 'mei__mei',\n",
       " 'mei__meirank',\n",
       " 'wind-hgt-850-2010-1',\n",
       " 'wind-hgt-850-2010-3',\n",
       " 'wind-hgt-850-2010-5',\n",
       " 'wind-hgt-850-2010-8',\n",
       " 'sst-2010-1',\n",
       " 'wind-hgt-500-2010-1',\n",
       " 'wind-hgt-500-2010-3',\n",
       " 'icec-2010-1',\n",
       " 'icec-2010-5',\n",
       " 'wind-uwnd-925-2010-1',\n",
       " 'wind-hgt-10-2010-1',\n",
       " 'wind-hgt-10-2010-2',\n",
       " 'wind-hgt-100-2010-1']"
      ]
     },
     "execution_count": 30,
     "metadata": {},
     "output_type": "execute_result"
    }
   ],
   "source": [
    "remove_feature = ['index', 'contest-tmp2m-14d__tmp2m']\n",
    "features_to_drop_v1 = [ele for ele in features_to_drop if ele not in remove_feature]\n",
    "features_to_drop_v1"
   ]
  },
  {
   "cell_type": "code",
   "execution_count": 31,
   "id": "b815d885",
   "metadata": {
    "execution": {
     "iopub.execute_input": "2023-02-14T17:20:56.860103Z",
     "iopub.status.busy": "2023-02-14T17:20:56.859184Z",
     "iopub.status.idle": "2023-02-14T17:20:56.955486Z",
     "shell.execute_reply": "2023-02-14T17:20:56.954479Z"
    },
    "papermill": {
     "duration": 0.117652,
     "end_time": "2023-02-14T17:20:56.957985",
     "exception": false,
     "start_time": "2023-02-14T17:20:56.840333",
     "status": "completed"
    },
    "tags": []
   },
   "outputs": [],
   "source": [
    "cc_train_reduced = pd.DataFrame(X.drop(features_to_drop_v1, axis=1))\n",
    "cc_test_reduced = pd.DataFrame(X_test.drop(features_to_drop_v1, axis=1))"
   ]
  },
  {
   "cell_type": "markdown",
   "id": "fadbd3e9",
   "metadata": {
    "papermill": {
     "duration": 0.017764,
     "end_time": "2023-02-14T17:20:56.994383",
     "exception": false,
     "start_time": "2023-02-14T17:20:56.976619",
     "status": "completed"
    },
    "tags": []
   },
   "source": [
    "def ensemble_predict(xgboost_preds, lightgbm_preds):\n",
    "    # combine the predictions of the two models\n",
    "    combined_preds = np.mean([xgboost_preds, lightgbm_preds], axis=0)\n",
    "    return combined_preds"
   ]
  },
  {
   "cell_type": "code",
   "execution_count": 32,
   "id": "67da9f99",
   "metadata": {
    "execution": {
     "iopub.execute_input": "2023-02-14T17:20:57.030970Z",
     "iopub.status.busy": "2023-02-14T17:20:57.030637Z",
     "iopub.status.idle": "2023-02-14T17:20:57.397505Z",
     "shell.execute_reply": "2023-02-14T17:20:57.396522Z"
    },
    "papermill": {
     "duration": 0.387812,
     "end_time": "2023-02-14T17:20:57.399889",
     "exception": false,
     "start_time": "2023-02-14T17:20:57.012077",
     "status": "completed"
    },
    "tags": []
   },
   "outputs": [],
   "source": [
    "X_train, X_test_tts, y_train, y_test = train_test_split(cc_train_reduced, y, test_size=0.33, random_state=42)"
   ]
  },
  {
   "cell_type": "markdown",
   "id": "4a7ccb94",
   "metadata": {
    "papermill": {
     "duration": 0.017902,
     "end_time": "2023-02-14T17:20:57.436350",
     "exception": false,
     "start_time": "2023-02-14T17:20:57.418448",
     "status": "completed"
    },
    "tags": []
   },
   "source": [
    "# Using RandomForestRegressor"
   ]
  },
  {
   "cell_type": "markdown",
   "id": "fdebd5d0",
   "metadata": {
    "papermill": {
     "duration": 0.017624,
     "end_time": "2023-02-14T17:20:57.471980",
     "exception": false,
     "start_time": "2023-02-14T17:20:57.454356",
     "status": "completed"
    },
    "tags": []
   },
   "source": [
    "**Training and test performance**"
   ]
  },
  {
   "cell_type": "code",
   "execution_count": 33,
   "id": "a3eba136",
   "metadata": {
    "execution": {
     "iopub.execute_input": "2023-02-14T17:20:57.509090Z",
     "iopub.status.busy": "2023-02-14T17:20:57.508707Z",
     "iopub.status.idle": "2023-02-14T17:20:57.514970Z",
     "shell.execute_reply": "2023-02-14T17:20:57.514057Z"
    },
    "papermill": {
     "duration": 0.027217,
     "end_time": "2023-02-14T17:20:57.516926",
     "exception": false,
     "start_time": "2023-02-14T17:20:57.489709",
     "status": "completed"
    },
    "tags": []
   },
   "outputs": [
    {
     "data": {
      "text/plain": [
       "'\\n# Train the Random Forest Regressor\\nparams = {\\n    \\'n_estimators\\': 5000,\\n    \\'max_depth\\': 10,\\n    \\'min_samples_split\\': 2,\\n    \\'min_samples_leaf\\': 1,\\n    \\'max_features\\': \\'sqrt\\',\\n    \\'bootstrap\\': True,\\n    \\'oob_score\\': True\\n}\\nregr_rfr = RandomForestRegressor(**params)\\nregr_rfr.fit(X_train, y_train)\\n# make predictions on the test data\\ny_pred_rfr = regr_rfr.predict(X_test_tts)\\n\\n# calculate the RMSE\\nrmse = np.sqrt(mean_squared_error(y_test, y_pred_rfr))\\nprint(\"RMSE:\", rmse)\\n'"
      ]
     },
     "execution_count": 33,
     "metadata": {},
     "output_type": "execute_result"
    }
   ],
   "source": [
    "'''\n",
    "# Train the Random Forest Regressor\n",
    "params = {\n",
    "    'n_estimators': 5000,\n",
    "    'max_depth': 10,\n",
    "    'min_samples_split': 2,\n",
    "    'min_samples_leaf': 1,\n",
    "    'max_features': 'sqrt',\n",
    "    'bootstrap': True,\n",
    "    'oob_score': True\n",
    "}\n",
    "regr_rfr = RandomForestRegressor(**params)\n",
    "regr_rfr.fit(X_train, y_train)\n",
    "# make predictions on the test data\n",
    "y_pred_rfr = regr_rfr.predict(X_test_tts)\n",
    "\n",
    "# calculate the RMSE\n",
    "rmse = np.sqrt(mean_squared_error(y_test, y_pred_rfr))\n",
    "print(\"RMSE:\", rmse)\n",
    "'''"
   ]
  },
  {
   "cell_type": "code",
   "execution_count": 34,
   "id": "9bb5f8ce",
   "metadata": {
    "execution": {
     "iopub.execute_input": "2023-02-14T17:20:57.557052Z",
     "iopub.status.busy": "2023-02-14T17:20:57.555414Z",
     "iopub.status.idle": "2023-02-14T17:20:57.560530Z",
     "shell.execute_reply": "2023-02-14T17:20:57.559658Z"
    },
    "papermill": {
     "duration": 0.026489,
     "end_time": "2023-02-14T17:20:57.562506",
     "exception": false,
     "start_time": "2023-02-14T17:20:57.536017",
     "status": "completed"
    },
    "tags": []
   },
   "outputs": [],
   "source": [
    "# cc_test_pred = regr_rfr.predict(cc_test_reduced)"
   ]
  },
  {
   "cell_type": "code",
   "execution_count": 35,
   "id": "ae6bfc83",
   "metadata": {
    "execution": {
     "iopub.execute_input": "2023-02-14T17:20:57.601153Z",
     "iopub.status.busy": "2023-02-14T17:20:57.600250Z",
     "iopub.status.idle": "2023-02-14T17:20:57.604801Z",
     "shell.execute_reply": "2023-02-14T17:20:57.603957Z"
    },
    "papermill": {
     "duration": 0.025619,
     "end_time": "2023-02-14T17:20:57.606672",
     "exception": false,
     "start_time": "2023-02-14T17:20:57.581053",
     "status": "completed"
    },
    "tags": []
   },
   "outputs": [],
   "source": [
    "# cc_test_copy[target] = cc_test_pred\n",
    "# cc_test_copy[[target,\"index\"]].to_csv(\"rfrpredictions.csv\",index = False)"
   ]
  },
  {
   "cell_type": "markdown",
   "id": "6f3168f3",
   "metadata": {
    "papermill": {
     "duration": 0.017849,
     "end_time": "2023-02-14T17:20:57.642919",
     "exception": false,
     "start_time": "2023-02-14T17:20:57.625070",
     "status": "completed"
    },
    "tags": []
   },
   "source": [
    "# Using XGBoost\n",
    "\n",
    "*Gradient Boosted Decision Trees*\n",
    "\n",
    "XGBoost is short for Extreme Gradient Boosting. The implementation is designed for speed and performance. It is an efficient implementation of the stochastic gradient boosting algorithm."
   ]
  },
  {
   "cell_type": "code",
   "execution_count": 36,
   "id": "eb58a538",
   "metadata": {
    "execution": {
     "iopub.execute_input": "2023-02-14T17:20:57.681275Z",
     "iopub.status.busy": "2023-02-14T17:20:57.680902Z",
     "iopub.status.idle": "2023-02-14T17:20:57.685249Z",
     "shell.execute_reply": "2023-02-14T17:20:57.684266Z"
    },
    "papermill": {
     "duration": 0.026146,
     "end_time": "2023-02-14T17:20:57.687306",
     "exception": false,
     "start_time": "2023-02-14T17:20:57.661160",
     "status": "completed"
    },
    "tags": []
   },
   "outputs": [],
   "source": [
    "# create a DMatrix from the training data\n",
    "#dtrain = xgb.DMatrix(data=X_train, label=y_train)\n",
    "#dtest = xgb.DMatrix(data=X_test)"
   ]
  },
  {
   "cell_type": "markdown",
   "id": "da1d72d1",
   "metadata": {
    "papermill": {
     "duration": 0.01831,
     "end_time": "2023-02-14T17:20:57.724250",
     "exception": false,
     "start_time": "2023-02-14T17:20:57.705940",
     "status": "completed"
    },
    "tags": []
   },
   "source": [
    "### Hyperparameters used\n",
    "These parameters are used to specify the hyperparameters for a gradient boosting tree (GBT) model in the XGBoost library.\n",
    "\n",
    "- **base_score**: It is the initial prediction score of all instances, global bias.\n",
    "\n",
    "- **booster**: It specifies which booster to use for model training. The value 'gbtree' indicates that a tree-based booster will be used.\n",
    "\n",
    "- **tree_method**: It specifies the method used to build the trees. The value 'gpu_hist' means that the histogram-based algorithm is used to build the trees on a GPU.\n",
    "\n",
    "- **n_estimators**: It is the number of trees in the forest. The higher the number, the more complex the model becomes, but also the longer it takes to train.\n",
    "\n",
    "- **early_stopping_rounds**: It is used to stop the training process early when the performance on a validation set starts to degrade. The value 50 indicates that training will be stopped if the performance on the validation set does not improve after 50 iterations.\n",
    "\n",
    "- **objective**: It defines the loss function to be minimized. The value 'reg:squarederror' means that the model will minimize the mean squared error between the predicted and actual values.\n",
    "\n",
    "- **max_depth**: It is the maximum depth of the trees in the model. The higher the value, the more complex the model becomes. Note: 2 - 8 is recommended, any higher value than 8 would not provide any more benefits.\n",
    "\n",
    "- **subsample**: It is the fraction of the training instances used to build each tree in the forest. The lower the value, the simpler the model becomes, but also the more prone to overfitting.\n",
    "\n",
    "- **colsample_bytree**: It is the fraction of the columns used to build each tree in the forest. The lower the value, the simpler the model becomes, but also the more prone to overfitting.\n",
    "\n",
    "- **learning_rate**: It is the step size at which the optimizer makes updates to the model weights. A lower value means that the model updates more slowly but with less noise.\n",
    "\n",
    "- **gpu_id**: It is the GPU device id to use for training. The value 0 indicates that the first GPU in the system will be used."
   ]
  },
  {
   "cell_type": "markdown",
   "id": "3324cb82",
   "metadata": {
    "papermill": {
     "duration": 0.018103,
     "end_time": "2023-02-14T17:20:57.760549",
     "exception": false,
     "start_time": "2023-02-14T17:20:57.742446",
     "status": "completed"
    },
    "tags": []
   },
   "source": [
    "*Can use StratifiedKfold and gridsearhcv to determine the best combinations of parameters.*"
   ]
  },
  {
   "cell_type": "markdown",
   "id": "8933434e",
   "metadata": {
    "papermill": {
     "duration": 0.017819,
     "end_time": "2023-02-14T17:20:57.796979",
     "exception": false,
     "start_time": "2023-02-14T17:20:57.779160",
     "status": "completed"
    },
    "tags": []
   },
   "source": [
    "> Note 1: I would like to reduce the value of the n_estimators will maintaining the same rmse or better."
   ]
  },
  {
   "cell_type": "markdown",
   "id": "24bfb9b4",
   "metadata": {
    "papermill": {
     "duration": 0.017947,
     "end_time": "2023-02-14T17:20:57.832973",
     "exception": false,
     "start_time": "2023-02-14T17:20:57.815026",
     "status": "completed"
    },
    "tags": []
   },
   "source": [
    "> Note 2: Review the learning curve on the training and validation set"
   ]
  },
  {
   "cell_type": "code",
   "execution_count": 37,
   "id": "f52e39e8",
   "metadata": {
    "execution": {
     "iopub.execute_input": "2023-02-14T17:20:57.873207Z",
     "iopub.status.busy": "2023-02-14T17:20:57.872250Z",
     "iopub.status.idle": "2023-02-14T17:24:58.719397Z",
     "shell.execute_reply": "2023-02-14T17:24:58.718266Z"
    },
    "papermill": {
     "duration": 240.894131,
     "end_time": "2023-02-14T17:24:58.745254",
     "exception": false,
     "start_time": "2023-02-14T17:20:57.851123",
     "status": "completed"
    },
    "tags": []
   },
   "outputs": [
    {
     "name": "stdout",
     "output_type": "stream",
     "text": [
      "[0]\tvalidation_0-rmse:14.35715\tvalidation_1-rmse:14.33589\n",
      "[100]\tvalidation_0-rmse:1.24184\tvalidation_1-rmse:1.25592\n",
      "[200]\tvalidation_0-rmse:1.01415\tvalidation_1-rmse:1.03109\n",
      "[300]\tvalidation_0-rmse:0.89753\tvalidation_1-rmse:0.91768\n",
      "[400]\tvalidation_0-rmse:0.81108\tvalidation_1-rmse:0.83485\n",
      "[500]\tvalidation_0-rmse:0.74990\tvalidation_1-rmse:0.77715\n",
      "[600]\tvalidation_0-rmse:0.69867\tvalidation_1-rmse:0.72879\n",
      "[700]\tvalidation_0-rmse:0.65763\tvalidation_1-rmse:0.69083\n",
      "[800]\tvalidation_0-rmse:0.61796\tvalidation_1-rmse:0.65387\n",
      "[900]\tvalidation_0-rmse:0.58574\tvalidation_1-rmse:0.62418\n",
      "[1000]\tvalidation_0-rmse:0.56102\tvalidation_1-rmse:0.60198\n",
      "[1100]\tvalidation_0-rmse:0.53830\tvalidation_1-rmse:0.58141\n",
      "[1200]\tvalidation_0-rmse:0.51795\tvalidation_1-rmse:0.56294\n",
      "[1300]\tvalidation_0-rmse:0.49679\tvalidation_1-rmse:0.54356\n",
      "[1400]\tvalidation_0-rmse:0.48026\tvalidation_1-rmse:0.52879\n",
      "[1500]\tvalidation_0-rmse:0.46652\tvalidation_1-rmse:0.51674\n",
      "[1600]\tvalidation_0-rmse:0.45425\tvalidation_1-rmse:0.50620\n",
      "[1700]\tvalidation_0-rmse:0.44337\tvalidation_1-rmse:0.49693\n",
      "[1800]\tvalidation_0-rmse:0.43178\tvalidation_1-rmse:0.48699\n",
      "[1900]\tvalidation_0-rmse:0.42070\tvalidation_1-rmse:0.47727\n",
      "[2000]\tvalidation_0-rmse:0.41122\tvalidation_1-rmse:0.46926\n",
      "[2100]\tvalidation_0-rmse:0.40236\tvalidation_1-rmse:0.46186\n",
      "[2200]\tvalidation_0-rmse:0.39402\tvalidation_1-rmse:0.45510\n",
      "[2300]\tvalidation_0-rmse:0.38596\tvalidation_1-rmse:0.44834\n",
      "[2400]\tvalidation_0-rmse:0.37927\tvalidation_1-rmse:0.44297\n",
      "[2500]\tvalidation_0-rmse:0.37206\tvalidation_1-rmse:0.43699\n",
      "[2600]\tvalidation_0-rmse:0.36578\tvalidation_1-rmse:0.43191\n",
      "[2700]\tvalidation_0-rmse:0.35930\tvalidation_1-rmse:0.42664\n",
      "[2800]\tvalidation_0-rmse:0.35337\tvalidation_1-rmse:0.42189\n",
      "[2900]\tvalidation_0-rmse:0.34723\tvalidation_1-rmse:0.41693\n",
      "[3000]\tvalidation_0-rmse:0.34094\tvalidation_1-rmse:0.41168\n",
      "[3100]\tvalidation_0-rmse:0.33549\tvalidation_1-rmse:0.40738\n",
      "[3200]\tvalidation_0-rmse:0.33017\tvalidation_1-rmse:0.40305\n",
      "[3300]\tvalidation_0-rmse:0.32565\tvalidation_1-rmse:0.39954\n",
      "[3400]\tvalidation_0-rmse:0.32037\tvalidation_1-rmse:0.39530\n",
      "[3500]\tvalidation_0-rmse:0.31617\tvalidation_1-rmse:0.39202\n",
      "[3600]\tvalidation_0-rmse:0.31142\tvalidation_1-rmse:0.38822\n",
      "[3700]\tvalidation_0-rmse:0.30740\tvalidation_1-rmse:0.38511\n",
      "[3800]\tvalidation_0-rmse:0.30337\tvalidation_1-rmse:0.38201\n",
      "[3900]\tvalidation_0-rmse:0.29982\tvalidation_1-rmse:0.37939\n",
      "[4000]\tvalidation_0-rmse:0.29619\tvalidation_1-rmse:0.37660\n",
      "[4100]\tvalidation_0-rmse:0.29279\tvalidation_1-rmse:0.37412\n",
      "[4200]\tvalidation_0-rmse:0.28935\tvalidation_1-rmse:0.37150\n",
      "[4300]\tvalidation_0-rmse:0.28568\tvalidation_1-rmse:0.36867\n",
      "[4400]\tvalidation_0-rmse:0.28267\tvalidation_1-rmse:0.36649\n",
      "[4500]\tvalidation_0-rmse:0.27990\tvalidation_1-rmse:0.36461\n",
      "[4600]\tvalidation_0-rmse:0.27684\tvalidation_1-rmse:0.36233\n",
      "[4700]\tvalidation_0-rmse:0.27397\tvalidation_1-rmse:0.36026\n",
      "[4800]\tvalidation_0-rmse:0.27132\tvalidation_1-rmse:0.35847\n",
      "[4900]\tvalidation_0-rmse:0.26849\tvalidation_1-rmse:0.35633\n",
      "[5000]\tvalidation_0-rmse:0.26573\tvalidation_1-rmse:0.35433\n",
      "[5100]\tvalidation_0-rmse:0.26310\tvalidation_1-rmse:0.35242\n",
      "[5200]\tvalidation_0-rmse:0.26044\tvalidation_1-rmse:0.35052\n",
      "[5300]\tvalidation_0-rmse:0.25788\tvalidation_1-rmse:0.34859\n",
      "[5400]\tvalidation_0-rmse:0.25548\tvalidation_1-rmse:0.34695\n",
      "[5500]\tvalidation_0-rmse:0.25303\tvalidation_1-rmse:0.34519\n",
      "[5600]\tvalidation_0-rmse:0.25095\tvalidation_1-rmse:0.34375\n",
      "[5700]\tvalidation_0-rmse:0.24887\tvalidation_1-rmse:0.34237\n",
      "[5800]\tvalidation_0-rmse:0.24672\tvalidation_1-rmse:0.34091\n",
      "[5900]\tvalidation_0-rmse:0.24464\tvalidation_1-rmse:0.33957\n",
      "[6000]\tvalidation_0-rmse:0.24259\tvalidation_1-rmse:0.33821\n",
      "[6100]\tvalidation_0-rmse:0.24049\tvalidation_1-rmse:0.33678\n",
      "[6200]\tvalidation_0-rmse:0.23850\tvalidation_1-rmse:0.33548\n",
      "[6300]\tvalidation_0-rmse:0.23643\tvalidation_1-rmse:0.33403\n",
      "[6400]\tvalidation_0-rmse:0.23459\tvalidation_1-rmse:0.33284\n",
      "[6500]\tvalidation_0-rmse:0.23266\tvalidation_1-rmse:0.33158\n",
      "[6600]\tvalidation_0-rmse:0.23078\tvalidation_1-rmse:0.33032\n",
      "[6700]\tvalidation_0-rmse:0.22886\tvalidation_1-rmse:0.32900\n",
      "[6800]\tvalidation_0-rmse:0.22713\tvalidation_1-rmse:0.32780\n",
      "[6900]\tvalidation_0-rmse:0.22524\tvalidation_1-rmse:0.32651\n",
      "[7000]\tvalidation_0-rmse:0.22347\tvalidation_1-rmse:0.32528\n",
      "[7100]\tvalidation_0-rmse:0.22180\tvalidation_1-rmse:0.32425\n",
      "[7200]\tvalidation_0-rmse:0.22011\tvalidation_1-rmse:0.32313\n",
      "[7300]\tvalidation_0-rmse:0.21842\tvalidation_1-rmse:0.32204\n",
      "[7400]\tvalidation_0-rmse:0.21692\tvalidation_1-rmse:0.32115\n",
      "[7500]\tvalidation_0-rmse:0.21551\tvalidation_1-rmse:0.32031\n",
      "[7600]\tvalidation_0-rmse:0.21397\tvalidation_1-rmse:0.31935\n",
      "[7700]\tvalidation_0-rmse:0.21243\tvalidation_1-rmse:0.31837\n",
      "[7800]\tvalidation_0-rmse:0.21101\tvalidation_1-rmse:0.31749\n",
      "[7900]\tvalidation_0-rmse:0.20948\tvalidation_1-rmse:0.31652\n",
      "[8000]\tvalidation_0-rmse:0.20785\tvalidation_1-rmse:0.31542\n",
      "[8100]\tvalidation_0-rmse:0.20642\tvalidation_1-rmse:0.31459\n",
      "[8200]\tvalidation_0-rmse:0.20504\tvalidation_1-rmse:0.31378\n",
      "[8300]\tvalidation_0-rmse:0.20369\tvalidation_1-rmse:0.31296\n",
      "[8400]\tvalidation_0-rmse:0.20222\tvalidation_1-rmse:0.31196\n",
      "[8500]\tvalidation_0-rmse:0.20088\tvalidation_1-rmse:0.31113\n",
      "[8600]\tvalidation_0-rmse:0.19952\tvalidation_1-rmse:0.31028\n",
      "[8700]\tvalidation_0-rmse:0.19840\tvalidation_1-rmse:0.30966\n",
      "[8800]\tvalidation_0-rmse:0.19712\tvalidation_1-rmse:0.30891\n",
      "[8900]\tvalidation_0-rmse:0.19584\tvalidation_1-rmse:0.30813\n",
      "[9000]\tvalidation_0-rmse:0.19462\tvalidation_1-rmse:0.30741\n",
      "[9100]\tvalidation_0-rmse:0.19345\tvalidation_1-rmse:0.30671\n",
      "[9200]\tvalidation_0-rmse:0.19216\tvalidation_1-rmse:0.30592\n",
      "[9300]\tvalidation_0-rmse:0.19086\tvalidation_1-rmse:0.30513\n",
      "[9400]\tvalidation_0-rmse:0.18968\tvalidation_1-rmse:0.30440\n",
      "[9500]\tvalidation_0-rmse:0.18847\tvalidation_1-rmse:0.30365\n",
      "[9600]\tvalidation_0-rmse:0.18717\tvalidation_1-rmse:0.30278\n",
      "[9700]\tvalidation_0-rmse:0.18616\tvalidation_1-rmse:0.30223\n",
      "[9800]\tvalidation_0-rmse:0.18506\tvalidation_1-rmse:0.30158\n",
      "[9900]\tvalidation_0-rmse:0.18397\tvalidation_1-rmse:0.30093\n",
      "[10000]\tvalidation_0-rmse:0.18295\tvalidation_1-rmse:0.30037\n",
      "[10100]\tvalidation_0-rmse:0.18190\tvalidation_1-rmse:0.29977\n",
      "[10200]\tvalidation_0-rmse:0.18090\tvalidation_1-rmse:0.29922\n",
      "[10300]\tvalidation_0-rmse:0.17980\tvalidation_1-rmse:0.29855\n",
      "[10400]\tvalidation_0-rmse:0.17885\tvalidation_1-rmse:0.29805\n",
      "[10500]\tvalidation_0-rmse:0.17773\tvalidation_1-rmse:0.29735\n",
      "[10600]\tvalidation_0-rmse:0.17673\tvalidation_1-rmse:0.29679\n",
      "[10700]\tvalidation_0-rmse:0.17567\tvalidation_1-rmse:0.29616\n",
      "[10800]\tvalidation_0-rmse:0.17466\tvalidation_1-rmse:0.29558\n",
      "[10900]\tvalidation_0-rmse:0.17372\tvalidation_1-rmse:0.29507\n",
      "[11000]\tvalidation_0-rmse:0.17283\tvalidation_1-rmse:0.29460\n",
      "[11100]\tvalidation_0-rmse:0.17193\tvalidation_1-rmse:0.29413\n",
      "[11200]\tvalidation_0-rmse:0.17100\tvalidation_1-rmse:0.29365\n",
      "[11300]\tvalidation_0-rmse:0.17004\tvalidation_1-rmse:0.29310\n",
      "[11400]\tvalidation_0-rmse:0.16912\tvalidation_1-rmse:0.29257\n",
      "[11500]\tvalidation_0-rmse:0.16829\tvalidation_1-rmse:0.29215\n",
      "[11600]\tvalidation_0-rmse:0.16740\tvalidation_1-rmse:0.29163\n",
      "[11700]\tvalidation_0-rmse:0.16649\tvalidation_1-rmse:0.29112\n",
      "[11800]\tvalidation_0-rmse:0.16552\tvalidation_1-rmse:0.29052\n",
      "[11900]\tvalidation_0-rmse:0.16459\tvalidation_1-rmse:0.28995\n",
      "[12000]\tvalidation_0-rmse:0.16375\tvalidation_1-rmse:0.28947\n",
      "[12100]\tvalidation_0-rmse:0.16285\tvalidation_1-rmse:0.28895\n",
      "[12200]\tvalidation_0-rmse:0.16204\tvalidation_1-rmse:0.28850\n",
      "[12300]\tvalidation_0-rmse:0.16121\tvalidation_1-rmse:0.28805\n",
      "[12400]\tvalidation_0-rmse:0.16044\tvalidation_1-rmse:0.28769\n",
      "[12500]\tvalidation_0-rmse:0.15969\tvalidation_1-rmse:0.28732\n",
      "[12600]\tvalidation_0-rmse:0.15894\tvalidation_1-rmse:0.28693\n",
      "[12700]\tvalidation_0-rmse:0.15816\tvalidation_1-rmse:0.28651\n",
      "[12800]\tvalidation_0-rmse:0.15742\tvalidation_1-rmse:0.28614\n",
      "[12900]\tvalidation_0-rmse:0.15670\tvalidation_1-rmse:0.28580\n",
      "[13000]\tvalidation_0-rmse:0.15590\tvalidation_1-rmse:0.28539\n",
      "[13100]\tvalidation_0-rmse:0.15516\tvalidation_1-rmse:0.28497\n",
      "[13200]\tvalidation_0-rmse:0.15441\tvalidation_1-rmse:0.28457\n",
      "[13300]\tvalidation_0-rmse:0.15373\tvalidation_1-rmse:0.28426\n",
      "[13400]\tvalidation_0-rmse:0.15302\tvalidation_1-rmse:0.28389\n",
      "[13500]\tvalidation_0-rmse:0.15231\tvalidation_1-rmse:0.28350\n",
      "[13600]\tvalidation_0-rmse:0.15165\tvalidation_1-rmse:0.28318\n",
      "[13700]\tvalidation_0-rmse:0.15094\tvalidation_1-rmse:0.28278\n",
      "[13800]\tvalidation_0-rmse:0.15026\tvalidation_1-rmse:0.28243\n",
      "[13900]\tvalidation_0-rmse:0.14960\tvalidation_1-rmse:0.28212\n",
      "[14000]\tvalidation_0-rmse:0.14893\tvalidation_1-rmse:0.28180\n",
      "[14100]\tvalidation_0-rmse:0.14825\tvalidation_1-rmse:0.28146\n",
      "[14200]\tvalidation_0-rmse:0.14755\tvalidation_1-rmse:0.28110\n",
      "[14300]\tvalidation_0-rmse:0.14693\tvalidation_1-rmse:0.28078\n",
      "[14400]\tvalidation_0-rmse:0.14625\tvalidation_1-rmse:0.28045\n",
      "[14500]\tvalidation_0-rmse:0.14556\tvalidation_1-rmse:0.28008\n",
      "[14600]\tvalidation_0-rmse:0.14494\tvalidation_1-rmse:0.27982\n",
      "[14700]\tvalidation_0-rmse:0.14433\tvalidation_1-rmse:0.27955\n",
      "[14800]\tvalidation_0-rmse:0.14364\tvalidation_1-rmse:0.27920\n",
      "[14900]\tvalidation_0-rmse:0.14302\tvalidation_1-rmse:0.27886\n",
      "[14999]\tvalidation_0-rmse:0.14239\tvalidation_1-rmse:0.27856\n",
      "RMSE: 0.2785578\n"
     ]
    }
   ],
   "source": [
    "\n",
    "# set up parameters for XGBoost\n",
    "# list of learning_rates to test [0.0001, 0.001, 0.01, 0.1, 0.2, 0.3]\n",
    "params = {'base_score': 0.5, \n",
    "          'booster': 'gbtree',\n",
    "          'tree_method': 'gpu_hist',\n",
    "          'n_estimators': 15000,\n",
    "          'early_stopping_rounds': 50,\n",
    "          'objective': 'reg:squarederror',\n",
    "          'max_depth': 6,\n",
    "          'subsample': 0.5,\n",
    "          'colsample_bytree': 0.5,\n",
    "          'learning_rate': 0.05, \n",
    "          'gpu_id': 0}\n",
    "\n",
    "reg_xgb = xgb.XGBRegressor(**params)\n",
    "\n",
    "reg_xgb.fit(X_train, y_train,\n",
    "        eval_set=[(X_train, y_train), (X_test_tts, y_test)],\n",
    "        verbose=100)\n",
    "\n",
    "\n",
    "# make predictions on the test data\n",
    "y_pred_xgb = reg_xgb.predict(X_test_tts)\n",
    "\n",
    "# calculate the RMSE\n",
    "rmse = np.sqrt(mean_squared_error(y_test, y_pred_xgb))\n",
    "print(\"RMSE:\", rmse)\n"
   ]
  },
  {
   "cell_type": "code",
   "execution_count": 38,
   "id": "ed418e55",
   "metadata": {
    "execution": {
     "iopub.execute_input": "2023-02-14T17:24:58.799191Z",
     "iopub.status.busy": "2023-02-14T17:24:58.798832Z",
     "iopub.status.idle": "2023-02-14T17:25:09.963305Z",
     "shell.execute_reply": "2023-02-14T17:25:09.962486Z"
    },
    "papermill": {
     "duration": 11.194543,
     "end_time": "2023-02-14T17:25:09.965919",
     "exception": false,
     "start_time": "2023-02-14T17:24:58.771376",
     "status": "completed"
    },
    "tags": []
   },
   "outputs": [],
   "source": [
    "cc_test_pred = reg_xgb.predict(cc_test_reduced)"
   ]
  },
  {
   "cell_type": "code",
   "execution_count": 39,
   "id": "ad2dd92d",
   "metadata": {
    "execution": {
     "iopub.execute_input": "2023-02-14T17:25:10.022906Z",
     "iopub.status.busy": "2023-02-14T17:25:10.022523Z",
     "iopub.status.idle": "2023-02-14T17:25:10.077989Z",
     "shell.execute_reply": "2023-02-14T17:25:10.077023Z"
    },
    "papermill": {
     "duration": 0.085874,
     "end_time": "2023-02-14T17:25:10.080586",
     "exception": false,
     "start_time": "2023-02-14T17:25:09.994712",
     "status": "completed"
    },
    "tags": []
   },
   "outputs": [],
   "source": [
    "cc_test_copy[target] = cc_test_pred\n",
    "cc_test_copy[[target,\"index\"]].to_csv(\"xgbpredictions.csv\",index = False)"
   ]
  },
  {
   "cell_type": "markdown",
   "id": "9e5b0379",
   "metadata": {
    "papermill": {
     "duration": 0.034213,
     "end_time": "2023-02-14T17:25:10.144212",
     "exception": false,
     "start_time": "2023-02-14T17:25:10.109999",
     "status": "completed"
    },
    "tags": []
   },
   "source": [
    "## XGBoost Hyperparameter Tuning\n",
    "\n",
    "### TODO:"
   ]
  },
  {
   "cell_type": "markdown",
   "id": "79d25dde",
   "metadata": {
    "papermill": {
     "duration": 0.026122,
     "end_time": "2023-02-14T17:25:10.200699",
     "exception": false,
     "start_time": "2023-02-14T17:25:10.174577",
     "status": "completed"
    },
    "tags": []
   },
   "source": [
    "# How does catboost manage"
   ]
  },
  {
   "cell_type": "markdown",
   "id": "54d124f8",
   "metadata": {
    "papermill": {
     "duration": 0.025808,
     "end_time": "2023-02-14T17:25:10.252573",
     "exception": false,
     "start_time": "2023-02-14T17:25:10.226765",
     "status": "completed"
    },
    "tags": []
   },
   "source": [
    "from catboost import CatBoostRegressor\n",
    "reg_catb  = CatBoostRegressor(n_estimators=2000,eval_metric='RMSE',learning_rate=0.05, random_seed= 42)\n",
    "\n",
    "reg_catb.fit(X_train, y_train,eval_set=[(X_train, y_train), (X_test_tts, y_test)],verbose=100)\n",
    "y_pred_catb = reg_catb.predict(X_test_tts)\n"
   ]
  },
  {
   "cell_type": "markdown",
   "id": "1bf68cb2",
   "metadata": {
    "papermill": {
     "duration": 0.025946,
     "end_time": "2023-02-14T17:25:10.304583",
     "exception": false,
     "start_time": "2023-02-14T17:25:10.278637",
     "status": "completed"
    },
    "tags": []
   },
   "source": [
    "cc_test_copy_v2 = cc_test_copy.copy()\n",
    "cc_test_pred_catb = reg_catb.predict(X_test)"
   ]
  },
  {
   "cell_type": "markdown",
   "id": "c0d677b7",
   "metadata": {
    "papermill": {
     "duration": 0.025924,
     "end_time": "2023-02-14T17:25:10.356633",
     "exception": false,
     "start_time": "2023-02-14T17:25:10.330709",
     "status": "completed"
    },
    "tags": []
   },
   "source": [
    "cc_test_copy_v2[target] = cc_test_pred_catb"
   ]
  },
  {
   "cell_type": "markdown",
   "id": "136487b7",
   "metadata": {
    "papermill": {
     "duration": 0.025959,
     "end_time": "2023-02-14T17:25:10.408978",
     "exception": false,
     "start_time": "2023-02-14T17:25:10.383019",
     "status": "completed"
    },
    "tags": []
   },
   "source": [
    "cc_test_copy_v2[[target,\"index\"]].to_csv(\"catbpredictions.csv\",index = False)"
   ]
  },
  {
   "cell_type": "markdown",
   "id": "766374e1",
   "metadata": {
    "papermill": {
     "duration": 0.025993,
     "end_time": "2023-02-14T17:25:10.460878",
     "exception": false,
     "start_time": "2023-02-14T17:25:10.434885",
     "status": "completed"
    },
    "tags": []
   },
   "source": [
    "# Using lasso and gradientboosting ensemble\n",
    "\n",
    "This is taking too long. I need to find a way to speed up"
   ]
  },
  {
   "cell_type": "markdown",
   "id": "cbe2e8bb",
   "metadata": {
    "papermill": {
     "duration": 0.025859,
     "end_time": "2023-02-14T17:25:10.512949",
     "exception": false,
     "start_time": "2023-02-14T17:25:10.487090",
     "status": "completed"
    },
    "tags": []
   },
   "source": [
    "# Using Lasso\n",
    "\n",
    "lasso = Lasso(alpha=0.005, random_state=1, max_iter=1000)\n",
    "lasso.fit(X_train, y_train)\n",
    "y_pred_lasso = lasso.predict(X_test_tts)\n",
    "cc_test_pred_lasso = lasso.predict(X_test)\n",
    "cc_test_copy[target] = cc_test_pred_lasso\n",
    "cc_test_copy[[target,\"index\"]].to_csv(\"lassopredictions.csv\",index = False)"
   ]
  },
  {
   "cell_type": "markdown",
   "id": "3220d225",
   "metadata": {
    "papermill": {
     "duration": 0.026779,
     "end_time": "2023-02-14T17:25:10.566003",
     "exception": false,
     "start_time": "2023-02-14T17:25:10.539224",
     "status": "completed"
    },
    "tags": []
   },
   "source": [
    "# Using GradientBoostingRegressor\n",
    "gbr = GradientBoostingRegressor(n_estimators=10000, learning_rate=0.05, max_depth=4, max_features='sqrt', min_samples_leaf=15, min_samples_split=10, loss='huber', random_state =5)\n",
    "gbr.fit(X_train, y_train)\n",
    "y_pred_gbr = gbr.predict(X_test_tts)\n",
    "cc_test_copy_v2 = cc_test_copy.copy()\n",
    "cc_test_pred_gbr = gbr.predict(X_test)\n",
    "cc_test_copy_v2[target] = cc_test_pred_gbr\n",
    "cc_test_copy_v2[[target, \"index\"]].to_csv(\"gbrpredictions.csv\", index = False)"
   ]
  },
  {
   "cell_type": "markdown",
   "id": "49c39f29",
   "metadata": {
    "papermill": {
     "duration": 0.026179,
     "end_time": "2023-02-14T17:25:10.618235",
     "exception": false,
     "start_time": "2023-02-14T17:25:10.592056",
     "status": "completed"
    },
    "tags": []
   },
   "source": [
    "# Using LightGBM\n",
    "\n",
    "## understanding hyperparameters\n",
    "\n",
    "[Amazon documentation on LightGBM](https://docs.aws.amazon.com/sagemaker/latest/dg/lightgbm-hyperparameters.html)"
   ]
  },
  {
   "cell_type": "code",
   "execution_count": 40,
   "id": "f85b018f",
   "metadata": {
    "execution": {
     "iopub.execute_input": "2023-02-14T17:25:10.672748Z",
     "iopub.status.busy": "2023-02-14T17:25:10.672378Z",
     "iopub.status.idle": "2023-02-14T17:28:21.990559Z",
     "shell.execute_reply": "2023-02-14T17:28:21.989780Z"
    },
    "papermill": {
     "duration": 191.37356,
     "end_time": "2023-02-14T17:28:22.018507",
     "exception": false,
     "start_time": "2023-02-14T17:25:10.644947",
     "status": "completed"
    },
    "tags": []
   },
   "outputs": [
    {
     "name": "stderr",
     "output_type": "stream",
     "text": [
      "/opt/conda/lib/python3.7/site-packages/lightgbm/sklearn.py:736: UserWarning: 'verbose' argument is deprecated and will be removed in a future release of LightGBM. Pass 'log_evaluation()' callback via 'callbacks' argument instead.\n",
      "  _log_warning(\"'verbose' argument is deprecated and will be removed in a future release of LightGBM. \"\n"
     ]
    },
    {
     "name": "stdout",
     "output_type": "stream",
     "text": [
      "[100]\ttraining's rmse: 1.37369\tvalid_1's rmse: 1.3856\n",
      "[200]\ttraining's rmse: 1.11135\tvalid_1's rmse: 1.12392\n",
      "[300]\ttraining's rmse: 0.985999\tvalid_1's rmse: 1.00059\n",
      "[400]\ttraining's rmse: 0.897139\tvalid_1's rmse: 0.91388\n",
      "[500]\ttraining's rmse: 0.830138\tvalid_1's rmse: 0.848958\n",
      "[600]\ttraining's rmse: 0.777788\tvalid_1's rmse: 0.798837\n",
      "[700]\ttraining's rmse: 0.734912\tvalid_1's rmse: 0.757696\n",
      "[800]\ttraining's rmse: 0.700549\tvalid_1's rmse: 0.725185\n",
      "[900]\ttraining's rmse: 0.669325\tvalid_1's rmse: 0.695697\n",
      "[1000]\ttraining's rmse: 0.642884\tvalid_1's rmse: 0.67096\n",
      "[1100]\ttraining's rmse: 0.618493\tvalid_1's rmse: 0.648237\n",
      "[1200]\ttraining's rmse: 0.597847\tvalid_1's rmse: 0.629299\n",
      "[1300]\ttraining's rmse: 0.580961\tvalid_1's rmse: 0.613795\n",
      "[1400]\ttraining's rmse: 0.562886\tvalid_1's rmse: 0.597227\n",
      "[1500]\ttraining's rmse: 0.548737\tvalid_1's rmse: 0.584727\n",
      "[1600]\ttraining's rmse: 0.533976\tvalid_1's rmse: 0.571457\n",
      "[1700]\ttraining's rmse: 0.522304\tvalid_1's rmse: 0.56115\n",
      "[1800]\ttraining's rmse: 0.511618\tvalid_1's rmse: 0.551565\n",
      "[1900]\ttraining's rmse: 0.499659\tvalid_1's rmse: 0.540687\n",
      "[2000]\ttraining's rmse: 0.487307\tvalid_1's rmse: 0.529673\n",
      "[2100]\ttraining's rmse: 0.478097\tvalid_1's rmse: 0.52166\n",
      "[2200]\ttraining's rmse: 0.465615\tvalid_1's rmse: 0.510209\n",
      "[2300]\ttraining's rmse: 0.455967\tvalid_1's rmse: 0.501616\n",
      "[2400]\ttraining's rmse: 0.448888\tvalid_1's rmse: 0.495553\n",
      "[2500]\ttraining's rmse: 0.441386\tvalid_1's rmse: 0.489065\n",
      "[2600]\ttraining's rmse: 0.433896\tvalid_1's rmse: 0.482478\n",
      "[2700]\ttraining's rmse: 0.427304\tvalid_1's rmse: 0.476815\n",
      "[2800]\ttraining's rmse: 0.420036\tvalid_1's rmse: 0.470405\n",
      "[2900]\ttraining's rmse: 0.412623\tvalid_1's rmse: 0.463781\n",
      "[3000]\ttraining's rmse: 0.406669\tvalid_1's rmse: 0.458628\n",
      "[3100]\ttraining's rmse: 0.400482\tvalid_1's rmse: 0.453396\n",
      "[3200]\ttraining's rmse: 0.394359\tvalid_1's rmse: 0.447955\n",
      "[3300]\ttraining's rmse: 0.38914\tvalid_1's rmse: 0.443502\n",
      "[3400]\ttraining's rmse: 0.384366\tvalid_1's rmse: 0.439507\n",
      "[3500]\ttraining's rmse: 0.37887\tvalid_1's rmse: 0.434792\n",
      "[3600]\ttraining's rmse: 0.372821\tvalid_1's rmse: 0.429272\n",
      "[3700]\ttraining's rmse: 0.368475\tvalid_1's rmse: 0.425632\n",
      "[3800]\ttraining's rmse: 0.363087\tvalid_1's rmse: 0.420813\n",
      "[3900]\ttraining's rmse: 0.358228\tvalid_1's rmse: 0.41666\n",
      "[4000]\ttraining's rmse: 0.353272\tvalid_1's rmse: 0.412437\n",
      "[4100]\ttraining's rmse: 0.348335\tvalid_1's rmse: 0.40817\n",
      "[4200]\ttraining's rmse: 0.344359\tvalid_1's rmse: 0.404839\n",
      "[4300]\ttraining's rmse: 0.340566\tvalid_1's rmse: 0.401664\n",
      "[4400]\ttraining's rmse: 0.337022\tvalid_1's rmse: 0.398728\n",
      "[4500]\ttraining's rmse: 0.333532\tvalid_1's rmse: 0.395872\n",
      "[4600]\ttraining's rmse: 0.329974\tvalid_1's rmse: 0.393017\n",
      "[4700]\ttraining's rmse: 0.326601\tvalid_1's rmse: 0.390209\n",
      "[4800]\ttraining's rmse: 0.323271\tvalid_1's rmse: 0.387475\n",
      "[4900]\ttraining's rmse: 0.319861\tvalid_1's rmse: 0.384707\n",
      "[5000]\ttraining's rmse: 0.316187\tvalid_1's rmse: 0.381623\n",
      "[5100]\ttraining's rmse: 0.313297\tvalid_1's rmse: 0.379311\n",
      "[5200]\ttraining's rmse: 0.310148\tvalid_1's rmse: 0.376764\n",
      "[5300]\ttraining's rmse: 0.306718\tvalid_1's rmse: 0.373992\n",
      "[5400]\ttraining's rmse: 0.303849\tvalid_1's rmse: 0.371678\n",
      "[5500]\ttraining's rmse: 0.301236\tvalid_1's rmse: 0.369656\n",
      "[5600]\ttraining's rmse: 0.298643\tvalid_1's rmse: 0.367627\n",
      "[5700]\ttraining's rmse: 0.295413\tvalid_1's rmse: 0.364921\n",
      "[5800]\ttraining's rmse: 0.292752\tvalid_1's rmse: 0.362764\n",
      "[5900]\ttraining's rmse: 0.289996\tvalid_1's rmse: 0.360473\n",
      "[6000]\ttraining's rmse: 0.287167\tvalid_1's rmse: 0.358234\n",
      "RMSE: 0.3582342228213131\n"
     ]
    }
   ],
   "source": [
    "# parametes removed for now: 'feature_fraction': 0.9, 'bagging_fraction': 0.8, 'bagging_freq': 5,\n",
    "# set up parameters for LightGBM\n",
    "params = {'boosting_type': 'gbdt',\n",
    "          'objective': 'regression',\n",
    "          'metric': 'rmse',\n",
    "          'max_depth': 6,\n",
    "          'num_leaves': 31,\n",
    "          'learning_rate': 0.05,\n",
    "          'device_type':'gpu',\n",
    "          'early_stopping_round': 50,\n",
    "          'n_estimators': 6000}\n",
    "\n",
    "reg_lgb = lgb.LGBMRegressor(**params)\n",
    "\n",
    "reg_lgb.fit(X_train, y_train,\n",
    "        eval_set=[(X_train, y_train), (X_test_tts, y_test)],\n",
    "        verbose=100)\n",
    "\n",
    "# make predictions on the test data\n",
    "y_pred_lgb = reg_lgb.predict(X_test_tts)\n",
    "\n",
    "# calculate the RMSE\n",
    "rmse = np.sqrt(mean_squared_error(y_test, y_pred_lgb))\n",
    "print(\"RMSE:\", rmse)\n"
   ]
  },
  {
   "cell_type": "code",
   "execution_count": 41,
   "id": "b6394814",
   "metadata": {
    "execution": {
     "iopub.execute_input": "2023-02-14T17:28:22.079933Z",
     "iopub.status.busy": "2023-02-14T17:28:22.079557Z",
     "iopub.status.idle": "2023-02-14T17:28:33.984432Z",
     "shell.execute_reply": "2023-02-14T17:28:33.983447Z"
    },
    "papermill": {
     "duration": 11.938181,
     "end_time": "2023-02-14T17:28:33.986857",
     "exception": false,
     "start_time": "2023-02-14T17:28:22.048676",
     "status": "completed"
    },
    "tags": []
   },
   "outputs": [],
   "source": [
    "cc_test_copy_v2 = cc_test_copy.copy()\n",
    "cc_test_pred_lgb = reg_lgb.predict(cc_test_reduced)\n",
    "cc_test_copy_v2[target] = cc_test_pred_lgb\n",
    "cc_test_copy_v2[[target,\"index\"]].to_csv(\"lgbpredictions.csv\",index = False)"
   ]
  },
  {
   "cell_type": "markdown",
   "id": "1f6e3e3f",
   "metadata": {
    "papermill": {
     "duration": 0.029992,
     "end_time": "2023-02-14T17:28:34.046934",
     "exception": false,
     "start_time": "2023-02-14T17:28:34.016942",
     "status": "completed"
    },
    "tags": []
   },
   "source": [
    "## Values predicted from LightGBM"
   ]
  },
  {
   "cell_type": "code",
   "execution_count": 42,
   "id": "d06c5bcd",
   "metadata": {
    "execution": {
     "iopub.execute_input": "2023-02-14T17:28:34.106790Z",
     "iopub.status.busy": "2023-02-14T17:28:34.106418Z",
     "iopub.status.idle": "2023-02-14T17:28:34.116761Z",
     "shell.execute_reply": "2023-02-14T17:28:34.115901Z"
    },
    "papermill": {
     "duration": 0.042991,
     "end_time": "2023-02-14T17:28:34.118824",
     "exception": false,
     "start_time": "2023-02-14T17:28:34.075833",
     "status": "completed"
    },
    "tags": []
   },
   "outputs": [
    {
     "data": {
      "text/plain": [
       "0        29.315946\n",
       "1        29.410218\n",
       "2        29.372999\n",
       "3        29.454697\n",
       "4        29.420671\n",
       "           ...    \n",
       "31349     7.103979\n",
       "31350     7.054869\n",
       "31351     5.836399\n",
       "31352     6.137345\n",
       "31353     6.785142\n",
       "Name: contest-tmp2m-14d__tmp2m, Length: 31354, dtype: float64"
      ]
     },
     "execution_count": 42,
     "metadata": {},
     "output_type": "execute_result"
    }
   ],
   "source": [
    "cc_test_copy_v2[target]"
   ]
  },
  {
   "cell_type": "code",
   "execution_count": null,
   "id": "9aec641e",
   "metadata": {
    "papermill": {
     "duration": 0.029479,
     "end_time": "2023-02-14T17:28:34.178182",
     "exception": false,
     "start_time": "2023-02-14T17:28:34.148703",
     "status": "completed"
    },
    "tags": []
   },
   "outputs": [],
   "source": []
  },
  {
   "cell_type": "code",
   "execution_count": 43,
   "id": "13a1dfc6",
   "metadata": {
    "execution": {
     "iopub.execute_input": "2023-02-14T17:28:34.240229Z",
     "iopub.status.busy": "2023-02-14T17:28:34.239857Z",
     "iopub.status.idle": "2023-02-14T17:28:34.247988Z",
     "shell.execute_reply": "2023-02-14T17:28:34.247000Z"
    },
    "papermill": {
     "duration": 0.041766,
     "end_time": "2023-02-14T17:28:34.250088",
     "exception": false,
     "start_time": "2023-02-14T17:28:34.208322",
     "status": "completed"
    },
    "tags": []
   },
   "outputs": [
    {
     "data": {
      "text/plain": [
       "0        29.014513\n",
       "1        28.874136\n",
       "2        28.936972\n",
       "3        29.114321\n",
       "4        29.200417\n",
       "           ...    \n",
       "31349     6.872413\n",
       "31350     7.523914\n",
       "31351     6.425503\n",
       "31352     6.323184\n",
       "31353     7.015501\n",
       "Name: contest-tmp2m-14d__tmp2m, Length: 31354, dtype: float32"
      ]
     },
     "execution_count": 43,
     "metadata": {},
     "output_type": "execute_result"
    }
   ],
   "source": [
    "cc_test_copy[target]"
   ]
  },
  {
   "cell_type": "code",
   "execution_count": 44,
   "id": "191f9554",
   "metadata": {
    "execution": {
     "iopub.execute_input": "2023-02-14T17:28:34.312408Z",
     "iopub.status.busy": "2023-02-14T17:28:34.312051Z",
     "iopub.status.idle": "2023-02-14T17:28:34.318042Z",
     "shell.execute_reply": "2023-02-14T17:28:34.316943Z"
    },
    "papermill": {
     "duration": 0.040176,
     "end_time": "2023-02-14T17:28:34.320705",
     "exception": false,
     "start_time": "2023-02-14T17:28:34.280529",
     "status": "completed"
    },
    "tags": []
   },
   "outputs": [],
   "source": [
    "ensemble_preds = cc_test_copy_v2[target]*0.7+cc_test_copy[target]*0.3"
   ]
  },
  {
   "cell_type": "markdown",
   "id": "c2c79ae4",
   "metadata": {
    "papermill": {
     "duration": 0.029482,
     "end_time": "2023-02-14T17:28:34.380551",
     "exception": false,
     "start_time": "2023-02-14T17:28:34.351069",
     "status": "completed"
    },
    "tags": []
   },
   "source": [
    "# Using Linear Model"
   ]
  },
  {
   "cell_type": "code",
   "execution_count": 45,
   "id": "66dcb41b",
   "metadata": {
    "execution": {
     "iopub.execute_input": "2023-02-14T17:28:34.441847Z",
     "iopub.status.busy": "2023-02-14T17:28:34.441428Z",
     "iopub.status.idle": "2023-02-14T17:28:34.445963Z",
     "shell.execute_reply": "2023-02-14T17:28:34.444907Z"
    },
    "papermill": {
     "duration": 0.037988,
     "end_time": "2023-02-14T17:28:34.448484",
     "exception": false,
     "start_time": "2023-02-14T17:28:34.410496",
     "status": "completed"
    },
    "tags": []
   },
   "outputs": [],
   "source": [
    "# fit the linear regression model to the training data\n",
    "#model = LinearRegression()\n",
    "#model.fit(X_train, y_train)\n",
    "\n",
    "# make predictions on the testing data\n",
    "#y_pred = model.predict(X_test)"
   ]
  },
  {
   "cell_type": "code",
   "execution_count": 46,
   "id": "f9f04136",
   "metadata": {
    "execution": {
     "iopub.execute_input": "2023-02-14T17:28:34.511571Z",
     "iopub.status.busy": "2023-02-14T17:28:34.511220Z",
     "iopub.status.idle": "2023-02-14T17:28:34.515863Z",
     "shell.execute_reply": "2023-02-14T17:28:34.514639Z"
    },
    "papermill": {
     "duration": 0.039396,
     "end_time": "2023-02-14T17:28:34.518086",
     "exception": false,
     "start_time": "2023-02-14T17:28:34.478690",
     "status": "completed"
    },
    "tags": []
   },
   "outputs": [],
   "source": [
    "#predictions = regr.predict(cc_test)"
   ]
  },
  {
   "cell_type": "code",
   "execution_count": 47,
   "id": "39b18369",
   "metadata": {
    "execution": {
     "iopub.execute_input": "2023-02-14T17:28:34.589990Z",
     "iopub.status.busy": "2023-02-14T17:28:34.589573Z",
     "iopub.status.idle": "2023-02-14T17:28:34.594451Z",
     "shell.execute_reply": "2023-02-14T17:28:34.593146Z"
    },
    "papermill": {
     "duration": 0.043741,
     "end_time": "2023-02-14T17:28:34.597357",
     "exception": false,
     "start_time": "2023-02-14T17:28:34.553616",
     "status": "completed"
    },
    "tags": []
   },
   "outputs": [],
   "source": [
    "#cc_sample.count()"
   ]
  },
  {
   "cell_type": "code",
   "execution_count": 48,
   "id": "5c620410",
   "metadata": {
    "execution": {
     "iopub.execute_input": "2023-02-14T17:28:34.660783Z",
     "iopub.status.busy": "2023-02-14T17:28:34.660412Z",
     "iopub.status.idle": "2023-02-14T17:28:34.664675Z",
     "shell.execute_reply": "2023-02-14T17:28:34.663780Z"
    },
    "papermill": {
     "duration": 0.037809,
     "end_time": "2023-02-14T17:28:34.666675",
     "exception": false,
     "start_time": "2023-02-14T17:28:34.628866",
     "status": "completed"
    },
    "tags": []
   },
   "outputs": [],
   "source": [
    "#pred_y.shape"
   ]
  },
  {
   "cell_type": "code",
   "execution_count": 49,
   "id": "96291a70",
   "metadata": {
    "execution": {
     "iopub.execute_input": "2023-02-14T17:28:34.728337Z",
     "iopub.status.busy": "2023-02-14T17:28:34.727422Z",
     "iopub.status.idle": "2023-02-14T17:28:34.856991Z",
     "shell.execute_reply": "2023-02-14T17:28:34.855932Z"
    },
    "papermill": {
     "duration": 0.162988,
     "end_time": "2023-02-14T17:28:34.859648",
     "exception": false,
     "start_time": "2023-02-14T17:28:34.696660",
     "status": "completed"
    },
    "tags": []
   },
   "outputs": [],
   "source": [
    "cc_submission = cc_test_copy.copy()\n",
    "cc_submission[target] = ensemble_preds\n",
    "cc_submission[[target,\"index\"]].to_csv('submission.csv', index = False)"
   ]
  }
 ],
 "metadata": {
  "kernelspec": {
   "display_name": "ds",
   "language": "python",
   "name": "python3"
  },
  "language_info": {
   "codemirror_mode": {
    "name": "ipython",
    "version": 3
   },
   "file_extension": ".py",
   "mimetype": "text/x-python",
   "name": "python",
   "nbconvert_exporter": "python",
   "pygments_lexer": "ipython3",
   "version": "3.10.8 | packaged by conda-forge | (main, Nov 22 2022, 08:27:35) [Clang 14.0.6 ]"
  },
  "papermill": {
   "default_parameters": {},
   "duration": 673.659946,
   "end_time": "2023-02-14T17:28:36.213349",
   "environment_variables": {},
   "exception": null,
   "input_path": "__notebook__.ipynb",
   "output_path": "__notebook__.ipynb",
   "parameters": {},
   "start_time": "2023-02-14T17:17:22.553403",
   "version": "2.3.4"
  },
  "vscode": {
   "interpreter": {
    "hash": "264fb4b3cfce54d90a7d976fcf89a390651d31ec38339fb6df7eeafd4e25629d"
   }
  }
 },
 "nbformat": 4,
 "nbformat_minor": 5
}
